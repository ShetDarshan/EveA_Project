{
 "cells": [
  {
   "cell_type": "code",
   "execution_count": 1,
   "metadata": {},
   "outputs": [],
   "source": [
    "from urllib.request import urlopen as uReq\n",
    "from bs4 import BeautifulSoup as soup\n",
    "import json\n",
    "import requests\n"
   ]
  },
  {
   "cell_type": "code",
   "execution_count": 2,
   "metadata": {},
   "outputs": [],
   "source": [
    "url=\"https://www.poetryireland.ie/whats-on/category/leinster\""
   ]
  },
  {
   "cell_type": "code",
   "execution_count": 3,
   "metadata": {},
   "outputs": [],
   "source": [
    "#Opening connection , grabbing the page\n",
    "uClient = uReq(url)\n",
    "page_html = uClient.read()"
   ]
  },
  {
   "cell_type": "code",
   "execution_count": 4,
   "metadata": {},
   "outputs": [],
   "source": [
    "uClient.close()\n",
    "page_soup = soup(page_html, \"html.parser\")"
   ]
  },
  {
   "cell_type": "code",
   "execution_count": 8,
   "metadata": {},
   "outputs": [],
   "source": [
    "# Finding each events\n",
    "div = page_soup.findAll('article',{\"class\":\"col-sm-1-3 col-md-1-3 col-lg-4 item item-event\"})\n",
    "#print(div)"
   ]
  },
  {
   "cell_type": "code",
   "execution_count": 25,
   "metadata": {},
   "outputs": [
    {
     "name": "stdout",
     "output_type": "stream",
     "text": [
      "[{'title': 'Writing Home: The ‘New Irish’ Poets', 'Image': '/content/cache/4c2d43251a836349/Writing_Home_296_167_c1.png', 'date': 'Tuesday 15 Oct', 'Time': ' 6.30PM', 'location': 'Poetry Ireland, 11 Parnell Square East, Dublin 1', 'Read More': 'https://www.poetryireland.ie/whats-on/writing-home-the-new-irish-poets'}, {'title': 'A New Orpheus - Michael Hartnett: A Bi-Lingual Celebration Twenty Years On', 'Image': '/content/cache/4c2d43251a836349/Untitled_design_(3)_296_167_c1.png', 'date': 'Saturday 19 Oct', 'Time': ' 8.00PM', 'location': 'Smock Alley Theatre, Dublin 8', 'Read More': 'https://www.poetryireland.ie/whats-on/a-new-orpheus-michael-hartnett-a-bi-lingual-celebration-twenty-years-on'}, {'title': 'Distich: Two Lines of Poetry', 'Image': '/content/cache/4c2d43251a836349/Three_poets_-_Estonian_event_296_167_c1.png', 'date': 'Monday 21 Oct', 'Time': ' 6.30PM', 'location': 'Poetry Ireland, 11 Parnell Square East, Dublin 1', 'Read More': 'https://www.poetryireland.ie/whats-on/distich-two-lines-of-poetry'}, {'title': 'Henri Cole reading', 'Image': '/content/cache/4c2d43251a836349/Henri_Cole_296_167_c1.png', 'date': 'Tuesday 22 Oct', 'Time': ' 6.30PM', 'location': 'Poetry Ireland, 11 Parnell Square East, Dublin 1', 'Read More': 'https://www.poetryireland.ie/whats-on/henri-cole-reading-1'}, {'title': 'Carcanet at 50 - Afternoon Symposium', 'Image': '/content/cache/4c2d43251a836349/Untitled_design_(7)_296_167_c1.png', 'date': 'Friday 25 Oct', 'Time': ' 1-5pm ', 'location': 'Poetry Ireland - 11 Parnell Square East, Dublin 1 ', 'Read More': 'https://www.poetryireland.ie/whats-on/carcanet-at-50-afternoon-symposium'}, {'title': 'Carcanet at 50 - Evening Readings', 'Image': '/content/cache/4c2d43251a836349/Eventbrite_Evening_(1)_296_167_c1.png', 'date': 'Friday 25 Oct', 'Time': ' 7.30pm ', 'location': 'Poetry Ireland - 11 Parnell Square East, Dublin 1 ', 'Read More': 'https://www.poetryireland.ie/whats-on/carcanet-at-50-evening-readings'}, {'title': 'Nature and Poetry, with Patrick Deeley and Catherine Phil McCarthy', 'Image': '/content/cache/4c2d43251a836349/Nature_and_Poetry_-_DBF_296_167_c1.png', 'date': 'Sunday 17 Nov', 'Time': ' 3.00PM', 'location': 'National Botanic Gardens, Glasnevin', 'Read More': 'https://www.poetryireland.ie/whats-on/nature-and-poetry-with-patrick-deeley-and-catherine-phil-mccarthy'}]\n"
     ]
    }
   ],
   "source": [
    "data_list = []\n",
    "\n",
    "for container in div:\n",
    "# container = div[0]\n",
    "    title = container.h2.text\n",
    "    a_tags=container.findAll('a')\n",
    "    image=a_tags[0].img['src']\n",
    "    read_more= a_tags[0]['href']\n",
    "    div_tags=container.findAll('div')\n",
    "    date=div_tags[2].text.strip('\\n\\t')\n",
    "    time_tag=date.split(',')\n",
    "    time=time_tag[1]\n",
    "    date=time_tag[0]\n",
    "    Location=div_tags[3].text\n",
    "    read_more=a_tags[1]['href']\n",
    "    Category='Art & Theatre'\n",
    "    data = {}\n",
    "    data[\"title\"] = title\n",
    "    data[\"Image\"]=image\n",
    "    data[\"date\"] = date\n",
    "    data[\"Time\"]=time\n",
    "    data[\"location\"] = Location\n",
    "    data[\"Read More\"]= read_more    \n",
    "    data[\"Category\"]=Category\n",
    "    data_list.append(data)\n",
    "    \n",
    "print(data_list)"
   ]
  },
  {
   "cell_type": "code",
   "execution_count": null,
   "metadata": {},
   "outputs": [],
   "source": []
  }
 ],
 "metadata": {
  "kernelspec": {
   "display_name": "Python 3",
   "language": "python",
   "name": "python3"
  },
  "language_info": {
   "codemirror_mode": {
    "name": "ipython",
    "version": 3
   },
   "file_extension": ".py",
   "mimetype": "text/x-python",
   "name": "python",
   "nbconvert_exporter": "python",
   "pygments_lexer": "ipython3",
   "version": "3.7.1"
  }
 },
 "nbformat": 4,
 "nbformat_minor": 2
}
