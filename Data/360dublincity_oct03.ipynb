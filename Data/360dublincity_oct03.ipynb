{
 "cells": [
  {
   "cell_type": "code",
   "execution_count": 1,
   "metadata": {
    "collapsed": true
   },
   "outputs": [],
   "source": [
    "from urllib.request import urlopen as uReq\n",
    "from bs4 import BeautifulSoup as soup\n",
    "import json"
   ]
  },
  {
   "cell_type": "code",
   "execution_count": 2,
   "metadata": {
    "collapsed": true
   },
   "outputs": [],
   "source": [
    "url ='https://www.360dublincity.com/events'"
   ]
  },
  {
   "cell_type": "code",
   "execution_count": 3,
   "metadata": {
    "collapsed": true
   },
   "outputs": [],
   "source": [
    "#Opening connection , grabbing the page\n",
    "uClient = uReq(url) \n",
    "page_html = uClient.read()"
   ]
  },
  {
   "cell_type": "code",
   "execution_count": 4,
   "metadata": {
    "collapsed": true
   },
   "outputs": [],
   "source": [
    "uClient.close()"
   ]
  },
  {
   "cell_type": "code",
   "execution_count": 5,
   "metadata": {
    "collapsed": true
   },
   "outputs": [],
   "source": [
    "#Parsing\n",
    "page_soup = soup(page_html, \"html.parser\")\n",
    "#print(page_soup)"
   ]
  },
  {
   "cell_type": "code",
   "execution_count": 6,
   "metadata": {
    "collapsed": true
   },
   "outputs": [],
   "source": [
    "events_today = page_soup.findAll('div',{\"class\":\"calendarEventsBlockWrap\"})"
   ]
  },
  {
   "cell_type": "code",
   "execution_count": 122,
   "metadata": {},
   "outputs": [],
   "source": [
    "events = events_today[0].findAll('div',{\"class\":\"event-item clearfix \"})\n",
    "#events[0]"
   ]
  },
  {
   "cell_type": "code",
   "execution_count": 123,
   "metadata": {},
   "outputs": [
    {
     "name": "stdout",
     "output_type": "stream",
     "text": [
      "5\n"
     ]
    }
   ],
   "source": [
    "print(len(events))"
   ]
  },
  {
   "cell_type": "code",
   "execution_count": 124,
   "metadata": {},
   "outputs": [],
   "source": [
    "data_list1= []\n",
    "\n",
    "\n",
    "for event in events:\n",
    "    title = event.h3.a[\"title\"]\n",
    "    try:\n",
    "        image = event.find_all('a',{\"class\":\"calendarImageLink\"})[0].img[\"src\"]\n",
    "#         print(image)\n",
    "    except:\n",
    "        image = 'None'\n",
    "    if image.endswith(\".jpg\") | image.endswith(\".png\"):\n",
    "        image = image\n",
    "    else:\n",
    "        image = 'None'\n",
    "    try: \n",
    "        date = event.em.text\n",
    "    except:\n",
    "        date = 'None'\n",
    "    desc = event.div.text.strip()\n",
    "    data = {}\n",
    "    data[\"title\"] = title\n",
    "    data[\"image\"] = image\n",
    "    data[\"date\"] = date\n",
    "    data[\"desc\"] = desc\n",
    "    header = [elem.next for elem in event.find_all('strong')]\n",
    "    header = header[1:]\n",
    "#     print(header)\n",
    "    values = [elem.next.next for elem in event.find_all('strong')]\n",
    "    values = values[1:]\n",
    "#     print(values)\n",
    "    j=0\n",
    "    for i in header:\n",
    "        data[i] = values[j]\n",
    "        j=j+1\n",
    "\n",
    "    data_list1.append(data)\n",
    "\n",
    "#print(data_list1)  "
   ]
  },
  {
   "cell_type": "code",
   "execution_count": 125,
   "metadata": {},
   "outputs": [],
   "source": [
    "data = json.dumps(data_list1)\n",
    "#print(data)"
   ]
  },
  {
   "cell_type": "code",
   "execution_count": 77,
   "metadata": {},
   "outputs": [
    {
     "name": "stdout",
     "output_type": "stream",
     "text": [
      "5\n"
     ]
    }
   ],
   "source": [
    "print(len(data_list1))"
   ]
  },
  {
   "cell_type": "code",
   "execution_count": 126,
   "metadata": {},
   "outputs": [],
   "source": [
    "import pandas as pd\n",
    "df= pd.DataFrame(data_list1)\n",
    "#df"
   ]
  },
  {
   "cell_type": "code",
   "execution_count": 114,
   "metadata": {},
   "outputs": [
    {
     "data": {
      "text/html": [
       "<div>\n",
       "<style>\n",
       "    .dataframe thead tr:only-child th {\n",
       "        text-align: right;\n",
       "    }\n",
       "\n",
       "    .dataframe thead th {\n",
       "        text-align: left;\n",
       "    }\n",
       "\n",
       "    .dataframe tbody tr th {\n",
       "        vertical-align: top;\n",
       "    }\n",
       "</style>\n",
       "<table border=\"1\" class=\"dataframe\">\n",
       "  <thead>\n",
       "    <tr style=\"text-align: right;\">\n",
       "      <th></th>\n",
       "      <th>Address:</th>\n",
       "      <th>Category:</th>\n",
       "      <th>Location:</th>\n",
       "      <th>Price:</th>\n",
       "      <th>Time:</th>\n",
       "      <th>date</th>\n",
       "      <th>desc</th>\n",
       "      <th>image</th>\n",
       "      <th>title</th>\n",
       "    </tr>\n",
       "  </thead>\n",
       "  <tbody>\n",
       "  </tbody>\n",
       "</table>\n",
       "</div>"
      ],
      "text/plain": [
       "Empty DataFrame\n",
       "Columns: [Address:, Category:, Location:, Price:, Time:, date, desc, image, title]\n",
       "Index: []"
      ]
     },
     "execution_count": 114,
     "metadata": {},
     "output_type": "execute_result"
    }
   ],
   "source": [
    "dups = df.duplicated\n",
    "df[dups]"
   ]
  },
  {
   "cell_type": "code",
   "execution_count": 127,
   "metadata": {},
   "outputs": [],
   "source": [
    "df = df.drop_duplicates()\n",
    "#df"
   ]
  },
  {
   "cell_type": "code",
   "execution_count": 118,
   "metadata": {},
   "outputs": [],
   "source": [
    "df[\"Price:\"] = df[\"Price:\"].fillna(\"See Description\")"
   ]
  },
  {
   "cell_type": "code",
   "execution_count": 119,
   "metadata": {},
   "outputs": [
    {
     "data": {
      "text/html": [
       "<div>\n",
       "<style>\n",
       "    .dataframe thead tr:only-child th {\n",
       "        text-align: right;\n",
       "    }\n",
       "\n",
       "    .dataframe thead th {\n",
       "        text-align: left;\n",
       "    }\n",
       "\n",
       "    .dataframe tbody tr th {\n",
       "        vertical-align: top;\n",
       "    }\n",
       "</style>\n",
       "<table border=\"1\" class=\"dataframe\">\n",
       "  <thead>\n",
       "    <tr style=\"text-align: right;\">\n",
       "      <th></th>\n",
       "      <th>Address:</th>\n",
       "      <th>Category:</th>\n",
       "      <th>Location:</th>\n",
       "      <th>Price:</th>\n",
       "      <th>Time:</th>\n",
       "      <th>date</th>\n",
       "      <th>desc</th>\n",
       "      <th>image</th>\n",
       "      <th>title</th>\n",
       "    </tr>\n",
       "  </thead>\n",
       "  <tbody>\n",
       "    <tr>\n",
       "      <th>0</th>\n",
       "      <td>Rathfarnham Castle, Rahtfarnham Road, Rathfar...</td>\n",
       "      <td>Arts / Exhibits</td>\n",
       "      <td>Rathfarnham Castle</td>\n",
       "      <td>FREE</td>\n",
       "      <td>Times Vary</td>\n",
       "      <td>Sunday 22 September, 2019\\t\\t\\t\\t\\tthrough \\r\\...</td>\n",
       "      <td>The annual Ceramics Ireland Selected Members E...</td>\n",
       "      <td>//tours.360dublincity.com/siteAssets/events/ev...</td>\n",
       "      <td>Ceramics Ireland Selected Members Exhibition</td>\n",
       "    </tr>\n",
       "    <tr>\n",
       "      <th>1</th>\n",
       "      <td>Dublin (Ath Cliath)</td>\n",
       "      <td>Educational</td>\n",
       "      <td>Stephen's Green Shopping Centre</td>\n",
       "      <td>See Description</td>\n",
       "      <td>Times Vary</td>\n",
       "      <td>Monday 15 April, 2019\\t\\t\\t\\t\\tthrough \\r\\n\\t\\...</td>\n",
       "      <td>The Irish Potato Famine\\nStephen's Green Shopp...</td>\n",
       "      <td>//tours.360dublincity.com/siteAssets/events/WO...</td>\n",
       "      <td>The Irish Potato Famine</td>\n",
       "    </tr>\n",
       "    <tr>\n",
       "      <th>2</th>\n",
       "      <td>Dublin (Ath Cliath)</td>\n",
       "      <td>Arts / Exhibits</td>\n",
       "      <td>Royal Hospital Kilmainham, Kilmainham</td>\n",
       "      <td>See Description</td>\n",
       "      <td>Times Vary</td>\n",
       "      <td>Friday 2 August, 2019\\t\\t\\t\\t\\tthrough \\r\\n\\t\\...</td>\n",
       "      <td>Life above Everything is a major exhibition th...</td>\n",
       "      <td>None</td>\n",
       "      <td>Life above Everything: Lucian Freud and Jack B...</td>\n",
       "    </tr>\n",
       "    <tr>\n",
       "      <th>3</th>\n",
       "      <td>Dublin (Ath Cliath)</td>\n",
       "      <td>Comedy</td>\n",
       "      <td>Vicar's Street</td>\n",
       "      <td>See Description</td>\n",
       "      <td>Times Vary</td>\n",
       "      <td>Thursday 26 September, 2019\\t\\t\\t\\t\\tthrough \\...</td>\n",
       "      <td>Tommy Tiernan – Paddy Crazy Horse. The stand-u...</td>\n",
       "      <td>None</td>\n",
       "      <td>Tommy Tiernan – Paddy Crazy Horse</td>\n",
       "    </tr>\n",
       "    <tr>\n",
       "      <th>4</th>\n",
       "      <td>Dublin (Ath Cliath)</td>\n",
       "      <td>Cultural</td>\n",
       "      <td>Abbey Theatre</td>\n",
       "      <td>See Description</td>\n",
       "      <td>All Day Event</td>\n",
       "      <td>Friday 27 September, 2019\\t\\t\\t\\t\\tthrough \\r\\...</td>\n",
       "      <td>A live redubbing of Pier Paolo Pasolini's cont...</td>\n",
       "      <td>None</td>\n",
       "      <td>A live redubbing of Pier Paolo Pasolini's cont...</td>\n",
       "    </tr>\n",
       "  </tbody>\n",
       "</table>\n",
       "</div>"
      ],
      "text/plain": [
       "                                            Address:         Category:  \\\n",
       "0   Rathfarnham Castle, Rahtfarnham Road, Rathfar...   Arts / Exhibits   \n",
       "1                                Dublin (Ath Cliath)       Educational   \n",
       "2                                Dublin (Ath Cliath)   Arts / Exhibits   \n",
       "3                                Dublin (Ath Cliath)            Comedy   \n",
       "4                                Dublin (Ath Cliath)          Cultural   \n",
       "\n",
       "                                Location:           Price:           Time:  \\\n",
       "0                      Rathfarnham Castle             FREE      Times Vary   \n",
       "1         Stephen's Green Shopping Centre  See Description      Times Vary   \n",
       "2   Royal Hospital Kilmainham, Kilmainham  See Description      Times Vary   \n",
       "3                          Vicar's Street  See Description      Times Vary   \n",
       "4                           Abbey Theatre  See Description   All Day Event   \n",
       "\n",
       "                                                date  \\\n",
       "0  Sunday 22 September, 2019\\t\\t\\t\\t\\tthrough \\r\\...   \n",
       "1  Monday 15 April, 2019\\t\\t\\t\\t\\tthrough \\r\\n\\t\\...   \n",
       "2  Friday 2 August, 2019\\t\\t\\t\\t\\tthrough \\r\\n\\t\\...   \n",
       "3  Thursday 26 September, 2019\\t\\t\\t\\t\\tthrough \\...   \n",
       "4  Friday 27 September, 2019\\t\\t\\t\\t\\tthrough \\r\\...   \n",
       "\n",
       "                                                desc  \\\n",
       "0  The annual Ceramics Ireland Selected Members E...   \n",
       "1  The Irish Potato Famine\\nStephen's Green Shopp...   \n",
       "2  Life above Everything is a major exhibition th...   \n",
       "3  Tommy Tiernan – Paddy Crazy Horse. The stand-u...   \n",
       "4  A live redubbing of Pier Paolo Pasolini's cont...   \n",
       "\n",
       "                                               image  \\\n",
       "0  //tours.360dublincity.com/siteAssets/events/ev...   \n",
       "1  //tours.360dublincity.com/siteAssets/events/WO...   \n",
       "2                                               None   \n",
       "3                                               None   \n",
       "4                                               None   \n",
       "\n",
       "                                               title  \n",
       "0       Ceramics Ireland Selected Members Exhibition  \n",
       "1                            The Irish Potato Famine  \n",
       "2  Life above Everything: Lucian Freud and Jack B...  \n",
       "3                  Tommy Tiernan – Paddy Crazy Horse  \n",
       "4  A live redubbing of Pier Paolo Pasolini's cont...  "
      ]
     },
     "execution_count": 119,
     "metadata": {},
     "output_type": "execute_result"
    }
   ],
   "source": [
    "df"
   ]
  },
  {
   "cell_type": "code",
   "execution_count": 128,
   "metadata": {},
   "outputs": [],
   "source": [
    "data_json = df.to_json(orient=\"index\")\n",
    "#data_json"
   ]
  },
  {
   "cell_type": "code",
   "execution_count": null,
   "metadata": {
    "collapsed": true
   },
   "outputs": [],
   "source": []
  }
 ],
 "metadata": {
  "kernelspec": {
   "display_name": "Python 3",
   "language": "python",
   "name": "python3"
  },
  "language_info": {
   "codemirror_mode": {
    "name": "ipython",
    "version": 3
   },
   "file_extension": ".py",
   "mimetype": "text/x-python",
   "name": "python",
   "nbconvert_exporter": "python",
   "pygments_lexer": "ipython3",
   "version": "3.6.3"
  }
 },
 "nbformat": 4,
 "nbformat_minor": 2
}
