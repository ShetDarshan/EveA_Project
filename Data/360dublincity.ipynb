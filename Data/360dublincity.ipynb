{
 "cells": [
  {
   "cell_type": "code",
   "execution_count": 405,
   "metadata": {
    "collapsed": true
   },
   "outputs": [],
   "source": [
    "from urllib.request import urlopen as uReq\n",
    "from bs4 import BeautifulSoup as soup\n",
    "import json"
   ]
  },
  {
   "cell_type": "code",
   "execution_count": 406,
   "metadata": {
    "collapsed": true
   },
   "outputs": [],
   "source": [
    "url ='https://www.360dublincity.com/events'"
   ]
  },
  {
   "cell_type": "code",
   "execution_count": 407,
   "metadata": {
    "collapsed": true
   },
   "outputs": [],
   "source": [
    "#Opening connection , grabbing the page\n",
    "uClient = uReq(url) \n",
    "page_html = uClient.read()"
   ]
  },
  {
   "cell_type": "code",
   "execution_count": 408,
   "metadata": {
    "collapsed": true
   },
   "outputs": [],
   "source": [
    "uClient.close()"
   ]
  },
  {
   "cell_type": "code",
   "execution_count": 409,
   "metadata": {},
   "outputs": [],
   "source": [
    "#Parsing\n",
    "page_soup = soup(page_html, \"html.parser\")\n",
    "#print(page_soup)"
   ]
  },
  {
   "cell_type": "code",
   "execution_count": 410,
   "metadata": {},
   "outputs": [],
   "source": [
    "events = page_soup.findAll('div',{\"class\":\"event-item clearfix \"})\n",
    "#events[0]"
   ]
  },
  {
   "cell_type": "code",
   "execution_count": 411,
   "metadata": {},
   "outputs": [
    {
     "name": "stdout",
     "output_type": "stream",
     "text": [
      "41\n"
     ]
    }
   ],
   "source": [
    "print(len(events))"
   ]
  },
  {
   "cell_type": "code",
   "execution_count": 412,
   "metadata": {},
   "outputs": [],
   "source": [
    "data_list1= []\n",
    "\n",
    "\n",
    "for event in events:\n",
    "    title = event.h3.a[\"title\"]\n",
    "    if event.em:\n",
    "        date = event.em.text\n",
    "    else:\n",
    "        continue\n",
    "    desc = event.div.text.strip()\n",
    "    data = {}\n",
    "    data[\"title\"] = title\n",
    "    data[\"date\"] = date\n",
    "    data[\"desc\"] = desc\n",
    "    header = [elem.next for elem in event.find_all('strong')]\n",
    "    header = header[1:]\n",
    "#     print(header)\n",
    "    values = [elem.next.next for elem in event.find_all('strong')]\n",
    "    values = values[1:]\n",
    "#     print(values)\n",
    "    j=0\n",
    "    for i in header:\n",
    "        data[i] = values[j]\n",
    "        j=j+1\n",
    "\n",
    "    data_list1.append(data)\n",
    "\n",
    "#print(data_list1)  "
   ]
  },
  {
   "cell_type": "code",
   "execution_count": 413,
   "metadata": {},
   "outputs": [],
   "source": [
    "data = json.dumps(data_list1)\n",
    "#print(data)"
   ]
  },
  {
   "cell_type": "code",
   "execution_count": null,
   "metadata": {
    "collapsed": true
   },
   "outputs": [],
   "source": []
  }
 ],
 "metadata": {
  "kernelspec": {
   "display_name": "Python 3",
   "language": "python",
   "name": "python3"
  },
  "language_info": {
   "codemirror_mode": {
    "name": "ipython",
    "version": 3
   },
   "file_extension": ".py",
   "mimetype": "text/x-python",
   "name": "python",
   "nbconvert_exporter": "python",
   "pygments_lexer": "ipython3",
   "version": "3.6.3"
  }
 },
 "nbformat": 4,
 "nbformat_minor": 2
}
