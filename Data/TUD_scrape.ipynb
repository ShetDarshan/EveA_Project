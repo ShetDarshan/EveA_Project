{
 "cells": [
  {
   "cell_type": "code",
   "execution_count": 1,
   "metadata": {
    "collapsed": true
   },
   "outputs": [],
   "source": [
    "from urllib.request import urlopen as uReq\n",
    "from bs4 import BeautifulSoup as soup\n",
    "import json"
   ]
  },
  {
   "cell_type": "code",
   "execution_count": 2,
   "metadata": {
    "collapsed": true
   },
   "outputs": [],
   "source": [
    "url ='https://tudublin.ie/explore/whats-happening/events/'"
   ]
  },
  {
   "cell_type": "code",
   "execution_count": 3,
   "metadata": {
    "collapsed": true
   },
   "outputs": [],
   "source": [
    "#Opening connection , grabbing the page\n",
    "uClient = uReq(url)\n",
    "page_html = uClient.read()"
   ]
  },
  {
   "cell_type": "code",
   "execution_count": 4,
   "metadata": {
    "collapsed": true
   },
   "outputs": [],
   "source": [
    "uClient.close()"
   ]
  },
  {
   "cell_type": "code",
   "execution_count": 6,
   "metadata": {},
   "outputs": [
    {
     "name": "stdout",
     "output_type": "stream",
     "text": [
      "4\n",
      "<div class=\"article-list__col col-sm-6 col-md-3\" data-contentid=\"9868\" data-eventtype=\"origin\" id=\"event-list-2019-10-03-0\">\n",
      "<a class=\"article-list__inner\" href=\"/explore/whats-happening/events/all-events/monitoring-sustainable-development-goals.php?\">\n",
      "<div class=\"article-list__image\">\n",
      "<img alt=\"\" src=\"/media/website/news/2019/homepage/SDGs-Main-Image.jpg\">\n",
      "</img></div>\n",
      "<p class=\"article-list__date\">\n",
      "            \t\t\t\t\t   03 Oct, 2019\n",
      "                            </p>\n",
      "<h3 class=\"article-list__h\">Monitoring Sustainable Development Goals</h3>\n",
      "<p class=\"article-list__p\">Kevin McCormack of the CSO and Lorraine McNerney of OSI Ireland will give a joint presentation in the Michael O’Donnell Theatre in Bolton Street about the work that their organisations are doing in monitoring Sustainable Development in Ireland.</p>\n",
      "<ul class=\"article-list__info list-unstyled\">\n",
      "<li class=\"article-list__time\">1-2pm</li>\n",
      "<li class=\"article-list__location\">\n",
      "                City Centre: Bolton Street\n",
      "                 \n",
      "                \t<br/>\n",
      "                                Michael O’Donnell Theatre, R259\n",
      "               \t              </li>\n",
      "<li class=\"article-list__tag\">\n",
      "                Lectures &amp; Seminars\n",
      "              </li>\n",
      "</ul>\n",
      "</a>\n",
      "</div>\n"
     ]
    }
   ],
   "source": [
    "# Finding each events\n",
    "article = page_soup.findAll('div',{\"class\":\"article-list__col col-sm-6 col-md-3\"})\n",
    "print(len(article))\n",
    "print(article[0])"
   ]
  },
  {
   "cell_type": "code",
   "execution_count": 10,
   "metadata": {},
   "outputs": [
    {
     "name": "stdout",
     "output_type": "stream",
     "text": [
      "[{'read_more': 'https://tudublin.ie/explore/whats-happening/events/all-events/monitoring-sustainable-development-goals.php?', 'date': '03 Oct, 2019', 'desc': 'Kevin McCormack of the CSO and Lorraine McNerney of OSI Ireland will give a joint presentation in the Michael O’Donnell Theatre in Bolton Street about the work that their organisations are doing in monitoring Sustainable Development in Ireland.', 'title': 'Monitoring Sustainable Development Goals', 'image': 'https://tudublin.ie/media/website/news/2019/homepage/SDGs-Main-Image.jpg', 'time': '1-2pm', 'location': 'City Centre: Bolton Street\\n                 \\n                \\t\\n                                Michael O’Donnell Theatre, R259', 'category': 'Lectures & Seminars'}, {'read_more': 'https://tudublin.ie/explore/whats-happening/events/all-events/monitoring-sustainable-development-goals.php?', 'date': '23 Oct, 2019', 'desc': 'Our Annual Guidance Counsellor Event will take place in Grangegorman on Wednesday 23rd of October.  We look forward to welcoming you to discuss options for your students and to update you on all things new at TU Dublin.', 'title': 'Career Guidance Open Day', 'image': 'https://tudublin.ie/media/website/open-day/images/open-day-308x275.jpg', 'time': '8:45 - 14:30', 'location': \"City Centre: Grangegorman\\n                 \\n                \\t\\n                                 St Laurence's Church\", 'category': 'Open Days'}, {'read_more': 'https://tudublin.ie/explore/whats-happening/events/all-events/monitoring-sustainable-development-goals.php?', 'date': '29 Oct, 2019 -\\n\\t\\t\\t\\t   31 Oct, 2019', 'desc': '7th International Symposium on Language & Knowledge Engineering', 'title': '7th International Symposium on Language & Knowledge Engineering', 'image': 'https://tudublin.ie/media/website/news/2019/homepage/LKE-Home-Image.jpg', 'time': '9 am-4 pm', 'location': 'Tallaght', 'category': 'Conferences'}, {'read_more': 'https://tudublin.ie/explore/whats-happening/events/all-events/monitoring-sustainable-development-goals.php?', 'date': '30 Oct, 2019', 'desc': 'This conference examines Irish engineering education in an international context, including skills to achieve the UN Sustainable Development Goals and to succeed in a digital world.', 'title': 'Engineering Education: Future skills, standards and mobility', 'image': 'https://tudublin.ie/media/website/news/2019/homepage/Engineers-Ireland-Conference-Home-Image.jpg', 'time': '9am-4pm', 'location': 'Engineers Ireland, 22 Clyde Road, Ballsbridge, Dublin 4, Ireland', 'category': 'Conferences'}]\n"
     ]
    }
   ],
   "source": [
    "data_list = []\n",
    "for arti in article:\n",
    "    data = {}\n",
    "    data[\"read_more\"] = \"https://tudublin.ie\"+ article[0].a[\"href\"]\n",
    "    data[\"date\"] = arti.find_all('p')[0].text.strip()\n",
    "    data[\"desc\"] = arti.find_all('p')[1].text.strip()\n",
    "    data[\"title\"] = arti.h3.text\n",
    "    data[\"image\"] = \"https://tudublin.ie\" + arti.img[\"src\"]\n",
    "    data[\"time\"] = arti.find_all('li',{\"class\":\"article-list__time\"})[0].text.strip()\n",
    "    data[\"location\"] = arti.find_all('li',{\"class\":\"article-list__location\"})[0].text.strip()\n",
    "    data[\"category\"] = arti.find_all('li',{\"class\":\"article-list__tag\"})[0].text.strip()\n",
    "    data_list.append(data)\n",
    "    \n",
    "print(data_list)\n"
   ]
  },
  {
   "cell_type": "code",
   "execution_count": null,
   "metadata": {
    "collapsed": true
   },
   "outputs": [],
   "source": []
  }
 ],
 "metadata": {
  "kernelspec": {
   "display_name": "Python 3",
   "language": "python",
   "name": "python3"
  },
  "language_info": {
   "codemirror_mode": {
    "name": "ipython",
    "version": 3
   },
   "file_extension": ".py",
   "mimetype": "text/x-python",
   "name": "python",
   "nbconvert_exporter": "python",
   "pygments_lexer": "ipython3",
   "version": "3.6.3"
  }
 },
 "nbformat": 4,
 "nbformat_minor": 2
}
