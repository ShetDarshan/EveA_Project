{
 "cells": [
  {
   "cell_type": "code",
   "execution_count": 63,
   "metadata": {
    "collapsed": true
   },
   "outputs": [],
   "source": [
    "from urllib.request import urlopen as uReq\n",
    "from bs4 import BeautifulSoup as soup\n",
    "import json"
   ]
  },
  {
   "cell_type": "code",
   "execution_count": 64,
   "metadata": {
    "collapsed": true
   },
   "outputs": [],
   "source": [
    "url ='https://dublin.ie/whats-on/'"
   ]
  },
  {
   "cell_type": "code",
   "execution_count": 65,
   "metadata": {},
   "outputs": [],
   "source": [
    "#Opening connection , grabbing the page\n",
    "uClient = uReq(url)\n",
    "page_html = uClient.read()"
   ]
  },
  {
   "cell_type": "code",
   "execution_count": 66,
   "metadata": {
    "collapsed": true
   },
   "outputs": [],
   "source": [
    "uClient.close()"
   ]
  },
  {
   "cell_type": "code",
   "execution_count": 67,
   "metadata": {
    "collapsed": true
   },
   "outputs": [],
   "source": [
    "#Parsing\n",
    "page_soup = soup(page_html, \"html.parser\")\n",
    "#print(page_soup)"
   ]
  },
  {
   "cell_type": "code",
   "execution_count": 68,
   "metadata": {
    "collapsed": true
   },
   "outputs": [],
   "source": [
    "# Finding each events\n",
    "article = page_soup.findAll('article',{\"class\":\"event card \"})\n",
    "#print(article)"
   ]
  },
  {
   "cell_type": "code",
   "execution_count": 69,
   "metadata": {},
   "outputs": [
    {
     "name": "stdout",
     "output_type": "stream",
     "text": [
      "--- 44.26045370101929 seconds ---\n"
     ]
    }
   ],
   "source": [
    "import time\n",
    "start_time = time.time()\n",
    "\n",
    "data_list = []\n",
    "\n",
    "for a in article:\n",
    "    div = a.findAll('div',{\"class\":\"text\"})\n",
    "#     print(div)\n",
    "    v = div[0].a[\"href\"]\n",
    "    url2 = v\n",
    "    #Opening connection to second page, grabbing the page\n",
    "    uClient = uReq(url2)\n",
    "    page_html = uClient.read()\n",
    "    uClient.close()\n",
    "    #Parsing2\n",
    "    page_soup = soup(page_html, \"html.parser\")\n",
    "#     print(page_soup)\n",
    "    div = page_soup.findAll('div',{\"class\":\"event-info\"})\n",
    "    data = {}\n",
    "    data[\"title\"] = page_soup.h1.text\n",
    "    data[\"desc\"] = page_soup.findAll('div',{\"class\":\"shortened\"})[0].text.strip()\n",
    "    data[\"read_more\"] = url2\n",
    "    data[\"category\"] = a[\"data-categories\"]\n",
    "    details = div[0].findAll('dd')\n",
    "    a = div[0].findAll('dt')\n",
    "    for i in range(len(a)):\n",
    "        data[a[i].text] = details[i].text\n",
    "    data_list.append(data)\n",
    "\n",
    "#print(data_list)\n",
    "print(\"--- %s seconds ---\" % (time.time() - start_time))"
   ]
  },
  {
   "cell_type": "code",
   "execution_count": 70,
   "metadata": {},
   "outputs": [
    {
     "data": {
      "text/plain": [
       "110"
      ]
     },
     "execution_count": 70,
     "metadata": {},
     "output_type": "execute_result"
    }
   ],
   "source": [
    "len(data_list)"
   ]
  },
  {
   "cell_type": "code",
   "execution_count": 71,
   "metadata": {
    "collapsed": true
   },
   "outputs": [],
   "source": [
    "import pandas as pd\n",
    "df = pd.DataFrame(data_list)"
   ]
  },
  {
   "cell_type": "code",
   "execution_count": 72,
   "metadata": {},
   "outputs": [
    {
     "data": {
      "text/html": [
       "<div>\n",
       "<style>\n",
       "    .dataframe thead tr:only-child th {\n",
       "        text-align: right;\n",
       "    }\n",
       "\n",
       "    .dataframe thead th {\n",
       "        text-align: left;\n",
       "    }\n",
       "\n",
       "    .dataframe tbody tr th {\n",
       "        vertical-align: top;\n",
       "    }\n",
       "</style>\n",
       "<table border=\"1\" class=\"dataframe\">\n",
       "  <thead>\n",
       "    <tr style=\"text-align: right;\">\n",
       "      <th></th>\n",
       "      <th>Address:</th>\n",
       "      <th>Date:</th>\n",
       "      <th>Price:</th>\n",
       "      <th>Time:</th>\n",
       "      <th>category</th>\n",
       "      <th>desc</th>\n",
       "      <th>read_more</th>\n",
       "      <th>title</th>\n",
       "    </tr>\n",
       "  </thead>\n",
       "  <tbody>\n",
       "    <tr>\n",
       "      <th>count</th>\n",
       "      <td>109</td>\n",
       "      <td>110</td>\n",
       "      <td>107</td>\n",
       "      <td>110</td>\n",
       "      <td>110</td>\n",
       "      <td>110</td>\n",
       "      <td>110</td>\n",
       "      <td>110</td>\n",
       "    </tr>\n",
       "    <tr>\n",
       "      <th>unique</th>\n",
       "      <td>64</td>\n",
       "      <td>81</td>\n",
       "      <td>66</td>\n",
       "      <td>58</td>\n",
       "      <td>39</td>\n",
       "      <td>110</td>\n",
       "      <td>110</td>\n",
       "      <td>110</td>\n",
       "    </tr>\n",
       "    <tr>\n",
       "      <th>top</th>\n",
       "      <td>RDS Venue - Main Hall Complex (Halls 1-4 &amp; 6),...</td>\n",
       "      <td>Thursday 17th October</td>\n",
       "      <td>Free</td>\n",
       "      <td>Varies</td>\n",
       "      <td>music-and-comedy</td>\n",
       "      <td>Other People's Practices Juncture One – artist...</td>\n",
       "      <td>https://dublin.ie/whats-on/listings/ncad-open-...</td>\n",
       "      <td>Tommy Tiernan</td>\n",
       "    </tr>\n",
       "    <tr>\n",
       "      <th>freq</th>\n",
       "      <td>10</td>\n",
       "      <td>4</td>\n",
       "      <td>19</td>\n",
       "      <td>24</td>\n",
       "      <td>19</td>\n",
       "      <td>1</td>\n",
       "      <td>1</td>\n",
       "      <td>1</td>\n",
       "    </tr>\n",
       "  </tbody>\n",
       "</table>\n",
       "</div>"
      ],
      "text/plain": [
       "                                                 Address:  \\\n",
       "count                                                 109   \n",
       "unique                                                 64   \n",
       "top     RDS Venue - Main Hall Complex (Halls 1-4 & 6),...   \n",
       "freq                                                   10   \n",
       "\n",
       "                        Date: Price:   Time:          category  \\\n",
       "count                     110    107     110               110   \n",
       "unique                     81     66      58                39   \n",
       "top     Thursday 17th October   Free  Varies  music-and-comedy   \n",
       "freq                        4     19      24                19   \n",
       "\n",
       "                                                     desc  \\\n",
       "count                                                 110   \n",
       "unique                                                110   \n",
       "top     Other People's Practices Juncture One – artist...   \n",
       "freq                                                    1   \n",
       "\n",
       "                                                read_more          title  \n",
       "count                                                 110            110  \n",
       "unique                                                110            110  \n",
       "top     https://dublin.ie/whats-on/listings/ncad-open-...  Tommy Tiernan  \n",
       "freq                                                    1              1  "
      ]
     },
     "execution_count": 72,
     "metadata": {},
     "output_type": "execute_result"
    }
   ],
   "source": [
    "df.describe()"
   ]
  },
  {
   "cell_type": "code",
   "execution_count": 73,
   "metadata": {},
   "outputs": [],
   "source": [
    "#df"
   ]
  },
  {
   "cell_type": "code",
   "execution_count": 74,
   "metadata": {},
   "outputs": [
    {
     "data": {
      "text/plain": [
       "Address:     1\n",
       "Date:        0\n",
       "Price:       3\n",
       "Time:        0\n",
       "category     0\n",
       "desc         0\n",
       "read_more    0\n",
       "title        0\n",
       "dtype: int64"
      ]
     },
     "execution_count": 74,
     "metadata": {},
     "output_type": "execute_result"
    }
   ],
   "source": [
    "df.isnull().sum()"
   ]
  },
  {
   "cell_type": "code",
   "execution_count": 75,
   "metadata": {},
   "outputs": [
    {
     "data": {
      "text/html": [
       "<div>\n",
       "<style>\n",
       "    .dataframe thead tr:only-child th {\n",
       "        text-align: right;\n",
       "    }\n",
       "\n",
       "    .dataframe thead th {\n",
       "        text-align: left;\n",
       "    }\n",
       "\n",
       "    .dataframe tbody tr th {\n",
       "        vertical-align: top;\n",
       "    }\n",
       "</style>\n",
       "<table border=\"1\" class=\"dataframe\">\n",
       "  <thead>\n",
       "    <tr style=\"text-align: right;\">\n",
       "      <th></th>\n",
       "      <th>Address:</th>\n",
       "      <th>Date:</th>\n",
       "      <th>Price:</th>\n",
       "      <th>Time:</th>\n",
       "      <th>category</th>\n",
       "      <th>desc</th>\n",
       "      <th>read_more</th>\n",
       "      <th>title</th>\n",
       "    </tr>\n",
       "  </thead>\n",
       "  <tbody>\n",
       "  </tbody>\n",
       "</table>\n",
       "</div>"
      ],
      "text/plain": [
       "Empty DataFrame\n",
       "Columns: [Address:, Date:, Price:, Time:, category, desc, read_more, title]\n",
       "Index: []"
      ]
     },
     "execution_count": 75,
     "metadata": {},
     "output_type": "execute_result"
    }
   ],
   "source": [
    "dups = df.duplicated()\n",
    "df[dups]"
   ]
  },
  {
   "cell_type": "code",
   "execution_count": 76,
   "metadata": {},
   "outputs": [],
   "source": [
    "date_split = df[\"Date:\"].str.split('-',expand=True)\n",
    "df[\"start_date\"] = date_split[0]\n",
    "df[\"end_date\"] = date_split[1]\n",
    "#df"
   ]
  },
  {
   "cell_type": "code",
   "execution_count": 77,
   "metadata": {
    "collapsed": true
   },
   "outputs": [],
   "source": [
    "# e = df[\"Start_date\"][0]\n",
    "# f = \"Monday 30 September\"\n",
    "# from datetime import datetime\n",
    "# format = \"%A %d %B\"\n",
    "# print(datetime.strptime(f, format))"
   ]
  },
  {
   "cell_type": "code",
   "execution_count": 109,
   "metadata": {},
   "outputs": [],
   "source": [
    "new_df = pd.concat([df, df['category'].str.get_dummies(sep=',')], axis=1)\n",
    "#new_df"
   ]
  },
  {
   "cell_type": "code",
   "execution_count": 110,
   "metadata": {},
   "outputs": [],
   "source": [
    "main_cols = [\"Address:\",\"Date:\",\"Price:\",\"Time:\",\"desc\",\"read_more\",\"title\",\"start_date\",\"end_date\"]\n",
    "categories = df['category'].str.get_dummies(sep=',').columns.tolist()\n",
    "new_df = new_df.drop('category',axis=1)\n",
    "#new_df"
   ]
  },
  {
   "cell_type": "code",
   "execution_count": 107,
   "metadata": {},
   "outputs": [],
   "source": [
    "melt_df = pd.melt(new_df, id_vars=main_cols, value_vars=categories)\n",
    "#melt_df"
   ]
  },
  {
   "cell_type": "code",
   "execution_count": 88,
   "metadata": {
    "collapsed": true
   },
   "outputs": [],
   "source": [
    "melt_df = melt_df[melt_df[\"value\"] == 1]"
   ]
  },
  {
   "cell_type": "code",
   "execution_count": 89,
   "metadata": {},
   "outputs": [],
   "source": [
    "melt_df = melt_df.drop(['value','Date:'],axis=1)"
   ]
  },
  {
   "cell_type": "code",
   "execution_count": 105,
   "metadata": {},
   "outputs": [],
   "source": [
    "melt_df = melt_df.rename(columns={\"Address:\":\"address\",\"Price:\":\"price\",\"Time:\":\"time\",\"variable\":\"category\"})\n",
    "melt_df = melt_df.reset_index(drop=True)\n",
    "#melt_df"
   ]
  },
  {
   "cell_type": "code",
   "execution_count": 106,
   "metadata": {},
   "outputs": [],
   "source": [
    "out = melt_df.to_json(orient='index')\n",
    "#out"
   ]
  },
  {
   "cell_type": "code",
   "execution_count": null,
   "metadata": {
    "collapsed": true
   },
   "outputs": [],
   "source": []
  }
 ],
 "metadata": {
  "kernelspec": {
   "display_name": "Python 3",
   "language": "python",
   "name": "python3"
  },
  "language_info": {
   "codemirror_mode": {
    "name": "ipython",
    "version": 3
   },
   "file_extension": ".py",
   "mimetype": "text/x-python",
   "name": "python",
   "nbconvert_exporter": "python",
   "pygments_lexer": "ipython3",
   "version": "3.6.3"
  }
 },
 "nbformat": 4,
 "nbformat_minor": 2
}
