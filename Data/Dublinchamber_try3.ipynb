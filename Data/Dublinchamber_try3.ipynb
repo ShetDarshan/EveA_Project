{
 "cells": [
  {
   "cell_type": "code",
   "execution_count": 1,
   "metadata": {
    "collapsed": true
   },
   "outputs": [],
   "source": [
    "from urllib.request import urlopen as uReq\n",
    "from bs4 import BeautifulSoup as soup\n",
    "import json"
   ]
  },
  {
   "cell_type": "code",
   "execution_count": 2,
   "metadata": {
    "collapsed": true
   },
   "outputs": [],
   "source": [
    "url ='https://portal.dublinchamberhosting.com/Events'"
   ]
  },
  {
   "cell_type": "code",
   "execution_count": 6,
   "metadata": {
    "collapsed": true
   },
   "outputs": [],
   "source": [
    "#Opening connection , grabbing the page\n",
    "uClient = uReq(url)\n",
    "page_soup = uClient.read()"
   ]
  },
  {
   "cell_type": "code",
   "execution_count": 7,
   "metadata": {
    "collapsed": true
   },
   "outputs": [],
   "source": [
    "uClient.close()"
   ]
  },
  {
   "cell_type": "code",
   "execution_count": 10,
   "metadata": {
    "collapsed": true
   },
   "outputs": [],
   "source": [
    "#Parsing\n",
    "page_soup = soup(page_html, \"html.parser\")\n",
    "#print(page_soup)"
   ]
  },
  {
   "cell_type": "code",
   "execution_count": 50,
   "metadata": {},
   "outputs": [
    {
     "name": "stdout",
     "output_type": "stream",
     "text": [
      "6\n"
     ]
    }
   ],
   "source": [
    "# Finding each events\n",
    "article = page_soup.findAll('div',{\"class\":\"c-feed-box-outer\"})\n",
    "print(len(article))\n",
    "#print(article[0])"
   ]
  },
  {
   "cell_type": "code",
   "execution_count": 110,
   "metadata": {},
   "outputs": [
    {
     "name": "stdout",
     "output_type": "stream",
     "text": [
      "[{'title': 'Find out what Budget 2020 means for you and your business', 'date': 'Wed 09 Oct 2019', 'time': '08:00 AM - 09:30 AM', 'address': 'Dublin Chamber, 7 Clare Street, Dublin 2 D02 F9O2', 'desc': \"Against a backdrop of Brexit, PwC's David Keary and Mairead Harbron will discuss Budget 2020 and its implications for you and your business. They will outline key changes and tax planning points, to allow you to maximise opportunities and to ensure the long term success of your business. The event will be an interactive session and our presenters will be delighted to take questions from the floor.\", 'image': 'https://i.imgur.com/1Co0V0Y.jpg', 'read_more': 'https://portal.dublinchamberhosting.com/Events/Event-Details.aspx?eventDateId=63'}, {'title': 'Annual Dinner 2019', 'date': 'Thu 10 Oct 2019', 'time': '06:00 PM - 10:00 PM', 'address': 'The Convention Centre Dublin, Spencer Dock, Dublin 1 D01 T1W6', 'desc': 'Dublin Chamber’s Annual Dinner is the premier business dinner in Ireland and is a must attend event in the business calendar. The dinner connects and celebrates the people and businesses in our capital city.In Proud Partnership with AIB', 'image': 'https://i.imgur.com/X4rNvqs.jpg', 'read_more': 'https://portal.dublinchamberhosting.com/Events/Event-Details.aspx?eventDateId=37'}, {'title': 'Leaders Series with Kevin Wall CEO, Barclays Bank Ireland', 'date': 'Wed 16 Oct 2019', 'time': '08:00 AM - 09:30 AM', 'address': 'Dublin Chamber, 7 Clare Street, Dublin 2 D02 F9O2', 'desc': 'Join Dublin Chamber and our sponsors IrishJobs for our next breakfast event of our Leaders Series on Wednesday 16th October, with Kevin Wall, CEO, Barclays Bank Ireland.', 'image': 'https://i.imgur.com/Ny6Ykyt.jpg', 'read_more': 'https://portal.dublinchamberhosting.com/Events/Event-Details.aspx?eventDateId=49'}, {'title': 'Business Owners Network October 2019', 'date': 'Fri 18 Oct 2019', 'time': '07:30 AM - 09:00 AM', 'address': 'Dublin Chamber, 7 Clare Street, Dublin 2 D02 F9O2', 'desc': 'Join us on October 18th for Business Owners Network.', 'image': 'https://i.imgur.com/qxJ8Xlm.jpg', 'read_more': 'https://portal.dublinchamberhosting.com/Events/Event-Details.aspx?eventDateId=67'}, {'title': 'Deal or No Deal - Brexit and Beyond', 'date': 'Thu 24 Oct 2019', 'time': '08:00 AM - 09:30 AM', 'address': 'Dublin Chamber, 7 Clare Street, Dublin 2 D02 F9O2', 'desc': 'Join us on Thursday 24th alongside Eversheds Sutherland as we welcome guest speakers\\xa0Frances Mullaney, Director, Trade Strategies UK and Senator Neale Richmond, Fine Gael where they will be discussing all things Brexit.', 'image': 'https://i.imgur.com/U84Qdet.jpg', 'read_more': 'https://portal.dublinchamberhosting.com/Events/Event-Details.aspx?eventDateId=68'}, {'title': 'Business Opportunities with the USA', 'date': 'Tue 10 Dec 2019', 'time': '08:30 AM - 01:00 PM', 'address': 'Dublin Chamber, 7 Clare Street, Dublin 2 D02 F9O2', 'desc': 'The Enterprise Europe Network at Dublin Chamber, in association the Avitus Group, will host a morning briefing on Business Opportunities in the USA, followed by a B2B matchmaking session with select companies from the region from 11.00.\\xa0For queries and B2B meeting requests, please email maria@dublinchamber.ie or call 01 644 7223', 'image': 'https://i.imgur.com/l6wdX3C.jpg', 'read_more': 'https://portal.dublinchamberhosting.com/Events/Event-Details.aspx?eventDateId=34'}]\n"
     ]
    }
   ],
   "source": [
    "data_list = []\n",
    "\n",
    "for arti in article:\n",
    "    url2 = 'https://portal.dublinchamberhosting.com' + arti.a[\"href\"]\n",
    "    #Opening connection to second page, grabbing the page\n",
    "    uClient = uReq(url2)\n",
    "    page_html = uClient.read()\n",
    "    uClient.close()\n",
    "    #Parsing2\n",
    "    page_soup = soup(page_html, \"html.parser\")\n",
    "    #print(page_soup)\n",
    "    image = page_soup.find_all('div',{\"class\":\"c-banner__background-image o-crop__content o-crop__content--center\"})[0].img[\"src\"]\n",
    "    desc = page_soup.find_all('div',{\"class\":\"description\"})[0].p.text.strip()\n",
    "    try:\n",
    "        desc = desc.span.text.strip()\n",
    "    except:\n",
    "        desc = desc\n",
    "    event_box = page_soup.find_all('div',{\"class\":\"c-event-booking__right-column\"})[0]\n",
    "    event_box = event_box.find_all('div',{\"class\":\"c-event__event-info\"})[0].find_all('div',{\"class\":\"c-event-info__value\"})\n",
    "    title = event_box[0].text.strip()\n",
    "    date = event_box[1].text.strip()\n",
    "    time = event_box[2].text.strip()\n",
    "    address = event_box[3].text.strip()\n",
    "    data = {}\n",
    "    data['title'] = title\n",
    "    data['date'] = date\n",
    "    data['time'] = time\n",
    "    data['address'] = address\n",
    "    data['desc'] = desc\n",
    "    data['image'] = image\n",
    "    data['read_more'] = url2\n",
    "    data_list.append(data)\n",
    "    \n",
    "print(data_list)"
   ]
  },
  {
   "cell_type": "code",
   "execution_count": 112,
   "metadata": {},
   "outputs": [
    {
     "data": {
      "text/html": [
       "<div>\n",
       "<style>\n",
       "    .dataframe thead tr:only-child th {\n",
       "        text-align: right;\n",
       "    }\n",
       "\n",
       "    .dataframe thead th {\n",
       "        text-align: left;\n",
       "    }\n",
       "\n",
       "    .dataframe tbody tr th {\n",
       "        vertical-align: top;\n",
       "    }\n",
       "</style>\n",
       "<table border=\"1\" class=\"dataframe\">\n",
       "  <thead>\n",
       "    <tr style=\"text-align: right;\">\n",
       "      <th></th>\n",
       "      <th>address</th>\n",
       "      <th>date</th>\n",
       "      <th>desc</th>\n",
       "      <th>image</th>\n",
       "      <th>read_more</th>\n",
       "      <th>time</th>\n",
       "      <th>title</th>\n",
       "      <th>category</th>\n",
       "    </tr>\n",
       "  </thead>\n",
       "  <tbody>\n",
       "    <tr>\n",
       "      <th>0</th>\n",
       "      <td>Dublin Chamber, 7 Clare Street, Dublin 2 D02 F9O2</td>\n",
       "      <td>Wed 09 Oct 2019</td>\n",
       "      <td>Against a backdrop of Brexit, PwC's David Kear...</td>\n",
       "      <td>https://i.imgur.com/1Co0V0Y.jpg</td>\n",
       "      <td>https://portal.dublinchamberhosting.com/Events...</td>\n",
       "      <td>08:00 AM - 09:30 AM</td>\n",
       "      <td>Find out what Budget 2020 means for you and yo...</td>\n",
       "      <td>Business</td>\n",
       "    </tr>\n",
       "    <tr>\n",
       "      <th>1</th>\n",
       "      <td>The Convention Centre Dublin, Spencer Dock, Du...</td>\n",
       "      <td>Thu 10 Oct 2019</td>\n",
       "      <td>Dublin Chamber’s Annual Dinner is the premier ...</td>\n",
       "      <td>https://i.imgur.com/X4rNvqs.jpg</td>\n",
       "      <td>https://portal.dublinchamberhosting.com/Events...</td>\n",
       "      <td>06:00 PM - 10:00 PM</td>\n",
       "      <td>Annual Dinner 2019</td>\n",
       "      <td>Business</td>\n",
       "    </tr>\n",
       "    <tr>\n",
       "      <th>2</th>\n",
       "      <td>Dublin Chamber, 7 Clare Street, Dublin 2 D02 F9O2</td>\n",
       "      <td>Wed 16 Oct 2019</td>\n",
       "      <td>Join Dublin Chamber and our sponsors IrishJobs...</td>\n",
       "      <td>https://i.imgur.com/Ny6Ykyt.jpg</td>\n",
       "      <td>https://portal.dublinchamberhosting.com/Events...</td>\n",
       "      <td>08:00 AM - 09:30 AM</td>\n",
       "      <td>Leaders Series with Kevin Wall CEO, Barclays B...</td>\n",
       "      <td>Business</td>\n",
       "    </tr>\n",
       "    <tr>\n",
       "      <th>3</th>\n",
       "      <td>Dublin Chamber, 7 Clare Street, Dublin 2 D02 F9O2</td>\n",
       "      <td>Fri 18 Oct 2019</td>\n",
       "      <td>Join us on October 18th for Business Owners Ne...</td>\n",
       "      <td>https://i.imgur.com/qxJ8Xlm.jpg</td>\n",
       "      <td>https://portal.dublinchamberhosting.com/Events...</td>\n",
       "      <td>07:30 AM - 09:00 AM</td>\n",
       "      <td>Business Owners Network October 2019</td>\n",
       "      <td>Business</td>\n",
       "    </tr>\n",
       "    <tr>\n",
       "      <th>4</th>\n",
       "      <td>Dublin Chamber, 7 Clare Street, Dublin 2 D02 F9O2</td>\n",
       "      <td>Thu 24 Oct 2019</td>\n",
       "      <td>Join us on Thursday 24th alongside Eversheds S...</td>\n",
       "      <td>https://i.imgur.com/U84Qdet.jpg</td>\n",
       "      <td>https://portal.dublinchamberhosting.com/Events...</td>\n",
       "      <td>08:00 AM - 09:30 AM</td>\n",
       "      <td>Deal or No Deal - Brexit and Beyond</td>\n",
       "      <td>Business</td>\n",
       "    </tr>\n",
       "    <tr>\n",
       "      <th>5</th>\n",
       "      <td>Dublin Chamber, 7 Clare Street, Dublin 2 D02 F9O2</td>\n",
       "      <td>Tue 10 Dec 2019</td>\n",
       "      <td>The Enterprise Europe Network at Dublin Chambe...</td>\n",
       "      <td>https://i.imgur.com/l6wdX3C.jpg</td>\n",
       "      <td>https://portal.dublinchamberhosting.com/Events...</td>\n",
       "      <td>08:30 AM - 01:00 PM</td>\n",
       "      <td>Business Opportunities with the USA</td>\n",
       "      <td>Business</td>\n",
       "    </tr>\n",
       "  </tbody>\n",
       "</table>\n",
       "</div>"
      ],
      "text/plain": [
       "                                             address             date  \\\n",
       "0  Dublin Chamber, 7 Clare Street, Dublin 2 D02 F9O2  Wed 09 Oct 2019   \n",
       "1  The Convention Centre Dublin, Spencer Dock, Du...  Thu 10 Oct 2019   \n",
       "2  Dublin Chamber, 7 Clare Street, Dublin 2 D02 F9O2  Wed 16 Oct 2019   \n",
       "3  Dublin Chamber, 7 Clare Street, Dublin 2 D02 F9O2  Fri 18 Oct 2019   \n",
       "4  Dublin Chamber, 7 Clare Street, Dublin 2 D02 F9O2  Thu 24 Oct 2019   \n",
       "5  Dublin Chamber, 7 Clare Street, Dublin 2 D02 F9O2  Tue 10 Dec 2019   \n",
       "\n",
       "                                                desc  \\\n",
       "0  Against a backdrop of Brexit, PwC's David Kear...   \n",
       "1  Dublin Chamber’s Annual Dinner is the premier ...   \n",
       "2  Join Dublin Chamber and our sponsors IrishJobs...   \n",
       "3  Join us on October 18th for Business Owners Ne...   \n",
       "4  Join us on Thursday 24th alongside Eversheds S...   \n",
       "5  The Enterprise Europe Network at Dublin Chambe...   \n",
       "\n",
       "                             image  \\\n",
       "0  https://i.imgur.com/1Co0V0Y.jpg   \n",
       "1  https://i.imgur.com/X4rNvqs.jpg   \n",
       "2  https://i.imgur.com/Ny6Ykyt.jpg   \n",
       "3  https://i.imgur.com/qxJ8Xlm.jpg   \n",
       "4  https://i.imgur.com/U84Qdet.jpg   \n",
       "5  https://i.imgur.com/l6wdX3C.jpg   \n",
       "\n",
       "                                           read_more                 time  \\\n",
       "0  https://portal.dublinchamberhosting.com/Events...  08:00 AM - 09:30 AM   \n",
       "1  https://portal.dublinchamberhosting.com/Events...  06:00 PM - 10:00 PM   \n",
       "2  https://portal.dublinchamberhosting.com/Events...  08:00 AM - 09:30 AM   \n",
       "3  https://portal.dublinchamberhosting.com/Events...  07:30 AM - 09:00 AM   \n",
       "4  https://portal.dublinchamberhosting.com/Events...  08:00 AM - 09:30 AM   \n",
       "5  https://portal.dublinchamberhosting.com/Events...  08:30 AM - 01:00 PM   \n",
       "\n",
       "                                               title  category  \n",
       "0  Find out what Budget 2020 means for you and yo...  Business  \n",
       "1                                 Annual Dinner 2019  Business  \n",
       "2  Leaders Series with Kevin Wall CEO, Barclays B...  Business  \n",
       "3               Business Owners Network October 2019  Business  \n",
       "4                Deal or No Deal - Brexit and Beyond  Business  \n",
       "5                Business Opportunities with the USA  Business  "
      ]
     },
     "execution_count": 112,
     "metadata": {},
     "output_type": "execute_result"
    }
   ],
   "source": [
    "import pandas as pd\n",
    "df = pd.DataFrame(data_list)\n",
    "df[\"category\"] = \"Business\"\n",
    "df"
   ]
  },
  {
   "cell_type": "code",
   "execution_count": 113,
   "metadata": {},
   "outputs": [
    {
     "data": {
      "text/plain": [
       "'{\"0\":{\"address\":\"Dublin Chamber, 7 Clare Street, Dublin 2 D02 F9O2\",\"date\":\"Wed 09 Oct 2019\",\"desc\":\"Against a backdrop of Brexit, PwC\\'s David Keary and Mairead Harbron will discuss Budget 2020 and its implications for you and your business. They will outline key changes and tax planning points, to allow you to maximise opportunities and to ensure the long term success of your business. The event will be an interactive session and our presenters will be delighted to take questions from the floor.\",\"image\":\"https:\\\\/\\\\/i.imgur.com\\\\/1Co0V0Y.jpg\",\"read_more\":\"https:\\\\/\\\\/portal.dublinchamberhosting.com\\\\/Events\\\\/Event-Details.aspx?eventDateId=63\",\"time\":\"08:00 AM - 09:30 AM\",\"title\":\"Find out what Budget 2020 means for you and your business\",\"category\":\"Business\"},\"1\":{\"address\":\"The Convention Centre Dublin, Spencer Dock, Dublin 1 D01 T1W6\",\"date\":\"Thu 10 Oct 2019\",\"desc\":\"Dublin Chamber\\\\u2019s Annual Dinner is the premier business dinner in Ireland and is a must attend event in the business calendar. The dinner connects and celebrates the people and businesses in our capital city.In Proud Partnership with AIB\",\"image\":\"https:\\\\/\\\\/i.imgur.com\\\\/X4rNvqs.jpg\",\"read_more\":\"https:\\\\/\\\\/portal.dublinchamberhosting.com\\\\/Events\\\\/Event-Details.aspx?eventDateId=37\",\"time\":\"06:00 PM - 10:00 PM\",\"title\":\"Annual Dinner 2019\",\"category\":\"Business\"},\"2\":{\"address\":\"Dublin Chamber, 7 Clare Street, Dublin 2 D02 F9O2\",\"date\":\"Wed 16 Oct 2019\",\"desc\":\"Join Dublin Chamber and our sponsors IrishJobs for our next breakfast event of our Leaders Series on Wednesday 16th October, with Kevin Wall, CEO, Barclays Bank Ireland.\",\"image\":\"https:\\\\/\\\\/i.imgur.com\\\\/Ny6Ykyt.jpg\",\"read_more\":\"https:\\\\/\\\\/portal.dublinchamberhosting.com\\\\/Events\\\\/Event-Details.aspx?eventDateId=49\",\"time\":\"08:00 AM - 09:30 AM\",\"title\":\"Leaders Series with Kevin Wall CEO, Barclays Bank Ireland\",\"category\":\"Business\"},\"3\":{\"address\":\"Dublin Chamber, 7 Clare Street, Dublin 2 D02 F9O2\",\"date\":\"Fri 18 Oct 2019\",\"desc\":\"Join us on October 18th for Business Owners Network.\",\"image\":\"https:\\\\/\\\\/i.imgur.com\\\\/qxJ8Xlm.jpg\",\"read_more\":\"https:\\\\/\\\\/portal.dublinchamberhosting.com\\\\/Events\\\\/Event-Details.aspx?eventDateId=67\",\"time\":\"07:30 AM - 09:00 AM\",\"title\":\"Business Owners Network October 2019\",\"category\":\"Business\"},\"4\":{\"address\":\"Dublin Chamber, 7 Clare Street, Dublin 2 D02 F9O2\",\"date\":\"Thu 24 Oct 2019\",\"desc\":\"Join us on Thursday 24th alongside Eversheds Sutherland as we welcome guest speakers\\\\u00a0Frances Mullaney, Director, Trade Strategies UK and Senator Neale Richmond, Fine Gael where they will be discussing all things Brexit.\",\"image\":\"https:\\\\/\\\\/i.imgur.com\\\\/U84Qdet.jpg\",\"read_more\":\"https:\\\\/\\\\/portal.dublinchamberhosting.com\\\\/Events\\\\/Event-Details.aspx?eventDateId=68\",\"time\":\"08:00 AM - 09:30 AM\",\"title\":\"Deal or No Deal - Brexit and Beyond\",\"category\":\"Business\"},\"5\":{\"address\":\"Dublin Chamber, 7 Clare Street, Dublin 2 D02 F9O2\",\"date\":\"Tue 10 Dec 2019\",\"desc\":\"The Enterprise Europe Network at Dublin Chamber, in association the Avitus Group, will host a morning briefing on Business Opportunities in the USA, followed by a B2B matchmaking session with select companies from the region from 11.00.\\\\u00a0For queries and B2B meeting requests, please email maria@dublinchamber.ie or call 01 644 7223\",\"image\":\"https:\\\\/\\\\/i.imgur.com\\\\/l6wdX3C.jpg\",\"read_more\":\"https:\\\\/\\\\/portal.dublinchamberhosting.com\\\\/Events\\\\/Event-Details.aspx?eventDateId=34\",\"time\":\"08:30 AM - 01:00 PM\",\"title\":\"Business Opportunities with the USA\",\"category\":\"Business\"}}'"
      ]
     },
     "execution_count": 113,
     "metadata": {},
     "output_type": "execute_result"
    }
   ],
   "source": [
    "df = df.to_json(orient = 'index')\n",
    "df"
   ]
  },
  {
   "cell_type": "code",
   "execution_count": null,
   "metadata": {
    "collapsed": true
   },
   "outputs": [],
   "source": []
  }
 ],
 "metadata": {
  "kernelspec": {
   "display_name": "Python 3",
   "language": "python",
   "name": "python3"
  },
  "language_info": {
   "codemirror_mode": {
    "name": "ipython",
    "version": 3
   },
   "file_extension": ".py",
   "mimetype": "text/x-python",
   "name": "python",
   "nbconvert_exporter": "python",
   "pygments_lexer": "ipython3",
   "version": "3.6.3"
  }
 },
 "nbformat": 4,
 "nbformat_minor": 2
}
