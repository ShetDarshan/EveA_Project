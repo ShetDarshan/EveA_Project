{
 "cells": [
  {
   "cell_type": "code",
   "execution_count": 1,
   "metadata": {
    "collapsed": true
   },
   "outputs": [],
   "source": [
    "from urllib.request import urlopen as uReq\n",
    "from bs4 import BeautifulSoup as soup\n",
    "import json"
   ]
  },
  {
   "cell_type": "code",
   "execution_count": 2,
   "metadata": {
    "collapsed": true
   },
   "outputs": [],
   "source": [
    "url ='https://portal.dublinchamberhosting.com/Events'"
   ]
  },
  {
   "cell_type": "code",
   "execution_count": 6,
   "metadata": {
    "collapsed": true
   },
   "outputs": [],
   "source": [
    "#Opening connection , grabbing the page\n",
    "uClient = uReq(url)\n",
    "page_soup = uClient.read()"
   ]
  },
  {
   "cell_type": "code",
   "execution_count": 7,
   "metadata": {
    "collapsed": true
   },
   "outputs": [],
   "source": [
    "uClient.close()"
   ]
  },
  {
   "cell_type": "code",
   "execution_count": 10,
   "metadata": {
    "collapsed": true
   },
   "outputs": [],
   "source": [
    "#Parsing\n",
    "page_soup = soup(page_html, \"html.parser\")\n",
    "#print(page_soup)"
   ]
  },
  {
   "cell_type": "code",
   "execution_count": 50,
   "metadata": {},
   "outputs": [
    {
     "name": "stdout",
     "output_type": "stream",
     "text": [
      "6\n"
     ]
    }
   ],
   "source": [
    "# Finding each events\n",
    "article = page_soup.findAll('div',{\"class\":\"c-feed-box-outer\"})\n",
    "print(len(article))\n",
    "#print(article[0])"
   ]
  },
  {
   "cell_type": "code",
   "execution_count": 110,
   "metadata": {},
   "outputs": [
    {
     "name": "stdout",
     "output_type": "stream",
     "text": [
      "[{'title': 'Find out what Budget 2020 means for you and your business', 'date': 'Wed 09 Oct 2019', 'time': '08:00 AM - 09:30 AM', 'address': 'Dublin Chamber, 7 Clare Street, Dublin 2 D02 F9O2', 'desc': \"Against a backdrop of Brexit, PwC's David Keary and Mairead Harbron will discuss Budget 2020 and its implications for you and your business. They will outline key changes and tax planning points, to allow you to maximise opportunities and to ensure the long term success of your business. The event will be an interactive session and our presenters will be delighted to take questions from the floor.\", 'image': 'https://i.imgur.com/1Co0V0Y.jpg', 'read_more': 'https://portal.dublinchamberhosting.com/Events/Event-Details.aspx?eventDateId=63'}, {'title': 'Annual Dinner 2019', 'date': 'Thu 10 Oct 2019', 'time': '06:00 PM - 10:00 PM', 'address': 'The Convention Centre Dublin, Spencer Dock, Dublin 1 D01 T1W6', 'desc': 'Dublin Chamber’s Annual Dinner is the premier business dinner in Ireland and is a must attend event in the business calendar. The dinner connects and celebrates the people and businesses in our capital city.In Proud Partnership with AIB', 'image': 'https://i.imgur.com/X4rNvqs.jpg', 'read_more': 'https://portal.dublinchamberhosting.com/Events/Event-Details.aspx?eventDateId=37'}, {'title': 'Leaders Series with Kevin Wall CEO, Barclays Bank Ireland', 'date': 'Wed 16 Oct 2019', 'time': '08:00 AM - 09:30 AM', 'address': 'Dublin Chamber, 7 Clare Street, Dublin 2 D02 F9O2', 'desc': 'Join Dublin Chamber and our sponsors IrishJobs for our next breakfast event of our Leaders Series on Wednesday 16th October, with Kevin Wall, CEO, Barclays Bank Ireland.', 'image': 'https://i.imgur.com/Ny6Ykyt.jpg', 'read_more': 'https://portal.dublinchamberhosting.com/Events/Event-Details.aspx?eventDateId=49'}, {'title': 'Business Owners Network October 2019', 'date': 'Fri 18 Oct 2019', 'time': '07:30 AM - 09:00 AM', 'address': 'Dublin Chamber, 7 Clare Street, Dublin 2 D02 F9O2', 'desc': 'Join us on October 18th for Business Owners Network.', 'image': 'https://i.imgur.com/qxJ8Xlm.jpg', 'read_more': 'https://portal.dublinchamberhosting.com/Events/Event-Details.aspx?eventDateId=67'}, {'title': 'Deal or No Deal - Brexit and Beyond', 'date': 'Thu 24 Oct 2019', 'time': '08:00 AM - 09:30 AM', 'address': 'Dublin Chamber, 7 Clare Street, Dublin 2 D02 F9O2', 'desc': 'Join us on Thursday 24th alongside Eversheds Sutherland as we welcome guest speakers\\xa0Frances Mullaney, Director, Trade Strategies UK and Senator Neale Richmond, Fine Gael where they will be discussing all things Brexit.', 'image': 'https://i.imgur.com/U84Qdet.jpg', 'read_more': 'https://portal.dublinchamberhosting.com/Events/Event-Details.aspx?eventDateId=68'}, {'title': 'Business Opportunities with the USA', 'date': 'Tue 10 Dec 2019', 'time': '08:30 AM - 01:00 PM', 'address': 'Dublin Chamber, 7 Clare Street, Dublin 2 D02 F9O2', 'desc': 'The Enterprise Europe Network at Dublin Chamber, in association the Avitus Group, will host a morning briefing on Business Opportunities in the USA, followed by a B2B matchmaking session with select companies from the region from 11.00.\\xa0For queries and B2B meeting requests, please email maria@dublinchamber.ie or call 01 644 7223', 'image': 'https://i.imgur.com/l6wdX3C.jpg', 'read_more': 'https://portal.dublinchamberhosting.com/Events/Event-Details.aspx?eventDateId=34'}]\n"
     ]
    }
   ],
   "source": [
    "data_list = []\n",
    "\n",
    "for arti in article:\n",
    "    url2 = 'https://portal.dublinchamberhosting.com' + arti.a[\"href\"]\n",
    "    #Opening connection to second page, grabbing the page\n",
    "    uClient = uReq(url2)\n",
    "    page_html = uClient.read()\n",
    "    uClient.close()\n",
    "    #Parsing2\n",
    "    page_soup = soup(page_html, \"html.parser\")\n",
    "    #print(page_soup)\n",
    "    image = page_soup.find_all('div',{\"class\":\"c-banner__background-image o-crop__content o-crop__content--center\"})[0].img[\"src\"]\n",
    "    desc = page_soup.find_all('div',{\"class\":\"description\"})[0].p.text.strip()\n",
    "    try:\n",
    "        desc = desc.span.text.strip()\n",
    "    except:\n",
    "        desc = desc\n",
    "    event_box = page_soup.find_all('div',{\"class\":\"c-event-booking__right-column\"})[0]\n",
    "    event_box = event_box.find_all('div',{\"class\":\"c-event__event-info\"})[0].find_all('div',{\"class\":\"c-event-info__value\"})\n",
    "    title = event_box[0].text.strip()\n",
    "    date = event_box[1].text.strip()\n",
    "    time = event_box[2].text.strip()\n",
    "    address = event_box[3].text.strip()\n",
    "    data = {}\n",
    "    data['title'] = title\n",
    "    data['date'] = date\n",
    "    data['time'] = time\n",
    "    data['address'] = address\n",
    "    data['desc'] = desc\n",
    "    data['image'] = image\n",
    "    data['read_more'] = url2\n",
    "    data_list.append(data)\n",
    "    \n",
    "print(data_list)"
   ]
  }
 ],
 "metadata": {
  "kernelspec": {
   "display_name": "Python 3",
   "language": "python",
   "name": "python3"
  },
  "language_info": {
   "codemirror_mode": {
    "name": "ipython",
    "version": 3
   },
   "file_extension": ".py",
   "mimetype": "text/x-python",
   "name": "python",
   "nbconvert_exporter": "python",
   "pygments_lexer": "ipython3",
   "version": "3.6.3"
  }
 },
 "nbformat": 4,
 "nbformat_minor": 2
}
