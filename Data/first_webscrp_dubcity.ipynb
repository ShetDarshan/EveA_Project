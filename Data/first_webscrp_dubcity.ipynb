{
 "cells": [
  {
   "cell_type": "code",
   "execution_count": 51,
   "metadata": {
    "collapsed": true
   },
   "outputs": [],
   "source": [
    "from urllib.request import urlopen as uReq\n",
    "from bs4 import BeautifulSoup as soup\n",
    "import json"
   ]
  },
  {
   "cell_type": "code",
   "execution_count": 52,
   "metadata": {
    "collapsed": true
   },
   "outputs": [],
   "source": [
    "url ='https://dublin.ie/whats-on'"
   ]
  },
  {
   "cell_type": "code",
   "execution_count": 53,
   "metadata": {
    "collapsed": true
   },
   "outputs": [],
   "source": [
    "#Opening connection , grabbing the page\n",
    "uClient = uReq(url)\n",
    "page_html = uClient.read()"
   ]
  },
  {
   "cell_type": "code",
   "execution_count": 54,
   "metadata": {
    "collapsed": true
   },
   "outputs": [],
   "source": [
    "uClient.close()"
   ]
  },
  {
   "cell_type": "code",
   "execution_count": 55,
   "metadata": {},
   "outputs": [],
   "source": [
    "#Parsing\n",
    "page_soup = soup(page_html, \"html.parser\")\n",
    "#print(page_soup)"
   ]
  },
  {
   "cell_type": "code",
   "execution_count": 56,
   "metadata": {},
   "outputs": [],
   "source": [
    "# Finding each events\n",
    "article = page_soup.findAll('article',{\"class\":\"event card \"})\n",
    "#print(article)"
   ]
  },
  {
   "cell_type": "code",
   "execution_count": 57,
   "metadata": {},
   "outputs": [
    {
     "data": {
      "text/plain": [
       "104"
      ]
     },
     "execution_count": 57,
     "metadata": {},
     "output_type": "execute_result"
    }
   ],
   "source": [
    "len(article)"
   ]
  },
  {
   "cell_type": "code",
   "execution_count": 58,
   "metadata": {},
   "outputs": [
    {
     "data": {
      "text/plain": [
       "<article class=\"event card \" data-categories=\"business-and-tech\" data-end-date=\"1569372849\" data-free=\"0\" data-reoccur=\"\" data-start-date=\"1569372849\">\n",
       "<a class=\"overlay\"></a>\n",
       "<!--\n",
       "-->\n",
       "<div class=\"img\" style=\"background-image: url('https://cdn.dublin.ie/wp-content/uploads/WO-CIO-IT-Leaders-Summit_1_450x450-1.jpg')\"></div>\n",
       "<div class=\"text\">\n",
       "<header>\n",
       "<h2>CIO &amp; IT Leaders Summit</h2>\n",
       "</header>\n",
       "<p class=\"location\"><i class=\"icon location-icon\"></i>Aviva Stadium</p>\n",
       "<time>Wed 25th Sep</time>\n",
       "<div class=\"summary\">\n",
       "<p>CIO &amp; IT Leaders Summit - Few things have the power to transform our world as rapidly and radically as digital technology. Organisations are digitising business processes, often including entire core capabilities. Managing the resulting information and being able to maximise its value will be the key differentiator for the intelligent and connected enterprise.\n",
       "\n",
       "Today's CIO needs to be a digital innovator, cultural champion and business leader. CIOs have the opportunity to step forward and create direction for the business and its digital ambitions. Indeed, today's CEO will be looking to </p>\n",
       "</div>\n",
       "<a class=\"read-more\" href=\"https://dublin.ie/whats-on/listings/cio-it-leaders-summit/\">More Details<i class=\"icon arrow-icon\"></i></a>\n",
       "</div>\n",
       "</article>"
      ]
     },
     "execution_count": 58,
     "metadata": {},
     "output_type": "execute_result"
    }
   ],
   "source": [
    "article[0]"
   ]
  },
  {
   "cell_type": "code",
   "execution_count": 59,
   "metadata": {},
   "outputs": [],
   "source": [
    "data_list = []\n",
    "\n",
    "for container in article:\n",
    "# container = article[0]\n",
    "    title = container.h2.text\n",
    "    time = container.time.text\n",
    "    p_tags = container.findAll('p')\n",
    "    location = p_tags[0].text\n",
    "    summary = p_tags[1].text.strip()\n",
    "    img = container.div[\"style\"]\n",
    "    data = {}\n",
    "    data[\"title\"] = title\n",
    "    data[\"time\"] = time\n",
    "    data[\"location\"] = location\n",
    "    data[\"summary\"] = summary\n",
    "    data[\"img\"] = img\n",
    "    data_list.append(data)\n",
    "    \n",
    "#print(data_list)"
   ]
  },
  {
   "cell_type": "code",
   "execution_count": 60,
   "metadata": {
    "collapsed": true
   },
   "outputs": [],
   "source": [
    "data = json.dumps(data_list)"
   ]
  },
  {
   "cell_type": "code",
   "execution_count": 61,
   "metadata": {},
   "outputs": [],
   "source": [
    "#print(data)"
   ]
  },
  {
   "cell_type": "code",
   "execution_count": null,
   "metadata": {
    "collapsed": true
   },
   "outputs": [],
   "source": []
  }
 ],
 "metadata": {
  "kernelspec": {
   "display_name": "Python 3",
   "language": "python",
   "name": "python3"
  },
  "language_info": {
   "codemirror_mode": {
    "name": "ipython",
    "version": 3
   },
   "file_extension": ".py",
   "mimetype": "text/x-python",
   "name": "python",
   "nbconvert_exporter": "python",
   "pygments_lexer": "ipython3",
   "version": "3.6.3"
  }
 },
 "nbformat": 4,
 "nbformat_minor": 2
}
