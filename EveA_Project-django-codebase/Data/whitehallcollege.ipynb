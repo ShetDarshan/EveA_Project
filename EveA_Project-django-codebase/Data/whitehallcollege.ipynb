{
 "cells": [
  {
   "cell_type": "code",
   "execution_count": 6,
   "metadata": {},
   "outputs": [],
   "source": [
    "from urllib.request import urlopen as uReq\n",
    "from bs4 import BeautifulSoup as soup\n",
    "import json \n"
   ]
  },
  {
   "cell_type": "code",
   "execution_count": 7,
   "metadata": {},
   "outputs": [],
   "source": [
    "url ='https://whitehallcollege.com/events/'"
   ]
  },
  {
   "cell_type": "code",
   "execution_count": 8,
   "metadata": {},
   "outputs": [],
   "source": [
    "#Opening connection , grabbing the page\n",
    "uClient = uReq(url)\n",
    "page_html = uClient.read()"
   ]
  },
  {
   "cell_type": "code",
   "execution_count": 11,
   "metadata": {},
   "outputs": [],
   "source": [
    "uClient.close()\n",
    "page_soup = soup(page_html, \"html.parser\")"
   ]
  },
  {
   "cell_type": "code",
   "execution_count": 12,
   "metadata": {},
   "outputs": [
    {
     "name": "stdout",
     "output_type": "stream",
     "text": [
      "[<div class=\"wrapBlock wrapBlockNews\">\n",
      "<div class=\"row\">\n",
      "<div class=\"col-xs-12 col-sm-8 col-md-9\">\n",
      "<h2 class=\"media-heading\">COURSE REGISTRATION 2019/20</h2>\n",
      "<p>\n",
      "<em>(28/08/2019)</em> <br/>\n",
      "\t\t\t\t\t\tWhitehall College Registration\t\t\t\t\t</p>\n",
      "<a class=\"btn\" href=\"https://whitehallcollege.com/course-registration-201920 \" title=\"COURSE REGISTRATION 2019/20\">read more</a>\n",
      "</div>\n",
      "</div>\n",
      "</div>, <div class=\"wrapBlock wrapBlockNews\">\n",
      "<div class=\"row\">\n",
      "<div class=\"col-xs-12 col-sm-8 col-md-9\">\n",
      "<h2 class=\"media-heading\">SOCIAL CARE COURSES</h2>\n",
      "<p>\n",
      "<em>(19/03/2019)</em> <br/>\n",
      "\t\t\t\t\t\tSOCIAL CARE WHITEHALL COLLEGE OF FURTHER EDUCATION\t\t\t\t\t</p>\n",
      "<a class=\"btn\" href=\"https://whitehallcollege.com/early-childhood-care-and-education \" title=\"SOCIAL CARE COURSES\">read more</a>\n",
      "</div>\n",
      "</div>\n",
      "</div>, <div class=\"wrapBlock wrapBlockNews\">\n",
      "<div class=\"row\">\n",
      "<div class=\"col-xs-12 col-sm-8 col-md-9\">\n",
      "<h2 class=\"media-heading\">We can help you on your journey . . .</h2>\n",
      "<p>\n",
      "<em>(26/02/2019)</em> <br/>\n",
      "\t\t\t\t\t\twelcome to whitehall college\t\t\t\t\t</p>\n",
      "<a class=\"btn\" href=\"https://whitehallcollege.com/we-can-help-you-on-your-journey \" title=\"We can help you on your journey . . .\">read more</a>\n",
      "</div>\n",
      "</div>\n",
      "</div>, <div class=\"wrapBlock wrapBlockNews\">\n",
      "<div class=\"row\">\n",
      "<div class=\"col-xs-12 col-sm-4 col-md-3\">\n",
      "<a href=\"https://whitehallcollege.com/showcase-of-art-and-sculpture-at-whitehall-college\" title=\"First field trip of the year\"><img alt=\"First field trip of the year\" class=\"media-object img-responsive full\" src=\"/uploads/pages/news_img-20180926-wa00042.jpg\"/></a>\n",
      "</div>\n",
      "<div class=\"col-xs-12 col-sm-8 col-md-9\">\n",
      "<h2 class=\"media-heading\">First field trip of the year</h2>\n",
      "<p>\n",
      "<em>(19/04/2018)</em> <br/>\n",
      "\t\t\t\t\t\tNutrition and Dietetics\t\t\t\t\t</p>\n",
      "<a class=\"btn\" href=\"https://whitehallcollege.com/showcase-of-art-and-sculpture-at-whitehall-college \" title=\"First field trip of the year\">read more</a>\n",
      "</div>\n",
      "</div>\n",
      "</div>, <div class=\"wrapBlock wrapBlockNews\">\n",
      "<div class=\"row\">\n",
      "<div class=\"col-xs-12 col-sm-8 col-md-9\">\n",
      "<h2 class=\"media-heading\">Sculpture in Context Botanic Gardens 2018</h2>\n",
      "<p>\n",
      "<em>(06/03/2018)</em> <br/>\n",
      "\t\t\t\t\t\tArt and Sculpture\t\t\t\t\t</p>\n",
      "<a class=\"btn\" href=\"https://whitehallcollege.com/mental-health-and-well-being-week-at-whitehall-college \" title=\"Sculpture in Context Botanic Gardens 2018\">read more</a>\n",
      "</div>\n",
      "</div>\n",
      "</div>]\n"
     ]
    }
   ],
   "source": [
    "# Finding each events\n",
    "div = page_soup.findAll('div',{\"class\":\"wrapBlock wrapBlockNews\"})\n",
    "#print(div)"
   ]
  },
  {
   "cell_type": "code",
   "execution_count": 96,
   "metadata": {},
   "outputs": [
    {
     "data": {
      "text/plain": [
       "5"
      ]
     },
     "execution_count": 96,
     "metadata": {},
     "output_type": "execute_result"
    }
   ],
   "source": [
    "len(div)"
   ]
  },
  {
   "cell_type": "code",
   "execution_count": 97,
   "metadata": {},
   "outputs": [
    {
     "data": {
      "text/plain": [
       "<div class=\"wrapBlock wrapBlockNews\">\n",
       "<div class=\"row\">\n",
       "<div class=\"col-xs-12 col-sm-8 col-md-9\">\n",
       "<h2 class=\"media-heading\">COURSE REGISTRATION 2019/20</h2>\n",
       "<p>\n",
       "<em>(28/08/2019)</em> <br/>\n",
       "\t\t\t\t\t\tWhitehall College Registration\t\t\t\t\t</p>\n",
       "<a class=\"btn\" href=\"https://whitehallcollege.com/course-registration-201920 \" title=\"COURSE REGISTRATION 2019/20\">read more</a>\n",
       "</div>\n",
       "</div>\n",
       "</div>"
      ]
     },
     "execution_count": 97,
     "metadata": {},
     "output_type": "execute_result"
    }
   ],
   "source": [
    "div[0]"
   ]
  },
  {
   "cell_type": "code",
   "execution_count": 19,
   "metadata": {},
   "outputs": [
    {
     "name": "stdout",
     "output_type": "stream",
     "text": [
      "[{'title': 'COURSE REGISTRATION 2019/20', 'date': '28/08/2019', 'location': 'Whitehall College Registration', 'Read More': 'https://whitehallcollege.com/course-registration-201920 '}, {'title': 'SOCIAL CARE COURSES', 'date': '19/03/2019', 'location': 'SOCIAL CARE WHITEHALL COLLEGE OF FURTHER EDUCATION', 'Read More': 'https://whitehallcollege.com/early-childhood-care-and-education '}, {'title': 'We can help you on your journey . . .', 'date': '26/02/2019', 'location': 'welcome to whitehall college', 'Read More': 'https://whitehallcollege.com/we-can-help-you-on-your-journey '}, {'title': 'First field trip of the year', 'date': '19/04/2018', 'location': 'Nutrition and Dietetics', 'Read More': 'https://whitehallcollege.com/showcase-of-art-and-sculpture-at-whitehall-college'}, {'title': 'Sculpture in Context Botanic Gardens 2018', 'date': '06/03/2018', 'location': 'Art and Sculpture', 'Read More': 'https://whitehallcollege.com/mental-health-and-well-being-week-at-whitehall-college '}]\n"
     ]
    }
   ],
   "source": [
    "data_list = []\n",
    "\n",
    "for container in div:\n",
    "# container = div[0]\n",
    "    title = container.h2.text\n",
    "    date = container.em.text.strip('()')\n",
    "    wh = container.p.text\n",
    "    wh = str(wh)\n",
    "    location = wh.split(')')[1].strip()\n",
    "    read_more= container.a['href']\n",
    "\n",
    "    data = {}\n",
    "    data[\"title\"] = title\n",
    "    data[\"date\"] = date\n",
    "    data[\"location\"] = location\n",
    "    data[\"Read More\"]= read_more    \n",
    "    \n",
    "    data_list.append(data)\n",
    "    \n",
    "print(data_list)"
   ]
  },
  {
   "cell_type": "code",
   "execution_count": 20,
   "metadata": {},
   "outputs": [],
   "source": [
    "data = json.dumps(data_list)"
   ]
  },
  {
   "cell_type": "code",
   "execution_count": 21,
   "metadata": {},
   "outputs": [
    {
     "data": {
      "text/html": [
       "<div>\n",
       "<style scoped>\n",
       "    .dataframe tbody tr th:only-of-type {\n",
       "        vertical-align: middle;\n",
       "    }\n",
       "\n",
       "    .dataframe tbody tr th {\n",
       "        vertical-align: top;\n",
       "    }\n",
       "\n",
       "    .dataframe thead th {\n",
       "        text-align: right;\n",
       "    }\n",
       "</style>\n",
       "<table border=\"1\" class=\"dataframe\">\n",
       "  <thead>\n",
       "    <tr style=\"text-align: right;\">\n",
       "      <th></th>\n",
       "      <th>Read More</th>\n",
       "      <th>date</th>\n",
       "      <th>location</th>\n",
       "      <th>title</th>\n",
       "    </tr>\n",
       "  </thead>\n",
       "  <tbody>\n",
       "    <tr>\n",
       "      <th>0</th>\n",
       "      <td>https://whitehallcollege.com/course-registrati...</td>\n",
       "      <td>28/08/2019</td>\n",
       "      <td>Whitehall College Registration</td>\n",
       "      <td>COURSE REGISTRATION 2019/20</td>\n",
       "    </tr>\n",
       "    <tr>\n",
       "      <th>1</th>\n",
       "      <td>https://whitehallcollege.com/early-childhood-c...</td>\n",
       "      <td>19/03/2019</td>\n",
       "      <td>SOCIAL CARE WHITEHALL COLLEGE OF FURTHER EDUCA...</td>\n",
       "      <td>SOCIAL CARE COURSES</td>\n",
       "    </tr>\n",
       "    <tr>\n",
       "      <th>2</th>\n",
       "      <td>https://whitehallcollege.com/we-can-help-you-o...</td>\n",
       "      <td>26/02/2019</td>\n",
       "      <td>welcome to whitehall college</td>\n",
       "      <td>We can help you on your journey . . .</td>\n",
       "    </tr>\n",
       "    <tr>\n",
       "      <th>3</th>\n",
       "      <td>https://whitehallcollege.com/showcase-of-art-a...</td>\n",
       "      <td>19/04/2018</td>\n",
       "      <td>Nutrition and Dietetics</td>\n",
       "      <td>First field trip of the year</td>\n",
       "    </tr>\n",
       "    <tr>\n",
       "      <th>4</th>\n",
       "      <td>https://whitehallcollege.com/mental-health-and...</td>\n",
       "      <td>06/03/2018</td>\n",
       "      <td>Art and Sculpture</td>\n",
       "      <td>Sculpture in Context Botanic Gardens 2018</td>\n",
       "    </tr>\n",
       "  </tbody>\n",
       "</table>\n",
       "</div>"
      ],
      "text/plain": [
       "                                           Read More        date  \\\n",
       "0  https://whitehallcollege.com/course-registrati...  28/08/2019   \n",
       "1  https://whitehallcollege.com/early-childhood-c...  19/03/2019   \n",
       "2  https://whitehallcollege.com/we-can-help-you-o...  26/02/2019   \n",
       "3  https://whitehallcollege.com/showcase-of-art-a...  19/04/2018   \n",
       "4  https://whitehallcollege.com/mental-health-and...  06/03/2018   \n",
       "\n",
       "                                            location  \\\n",
       "0                     Whitehall College Registration   \n",
       "1  SOCIAL CARE WHITEHALL COLLEGE OF FURTHER EDUCA...   \n",
       "2                       welcome to whitehall college   \n",
       "3                            Nutrition and Dietetics   \n",
       "4                                  Art and Sculpture   \n",
       "\n",
       "                                       title  \n",
       "0                COURSE REGISTRATION 2019/20  \n",
       "1                        SOCIAL CARE COURSES  \n",
       "2      We can help you on your journey . . .  \n",
       "3               First field trip of the year  \n",
       "4  Sculpture in Context Botanic Gardens 2018  "
      ]
     },
     "execution_count": 21,
     "metadata": {},
     "output_type": "execute_result"
    }
   ],
   "source": [
    "import pandas as pd\n",
    "df = pd.DataFrame.from_dict(data_list)\n",
    "df"
   ]
  },
  {
   "cell_type": "code",
   "execution_count": null,
   "metadata": {},
   "outputs": [],
   "source": []
  }
 ],
 "metadata": {
  "kernelspec": {
   "display_name": "Python 3",
   "language": "python",
   "name": "python3"
  },
  "language_info": {
   "codemirror_mode": {
    "name": "ipython",
    "version": 3
   },
   "file_extension": ".py",
   "mimetype": "text/x-python",
   "name": "python",
   "nbconvert_exporter": "python",
   "pygments_lexer": "ipython3",
   "version": "3.7.1"
  }
 },
 "nbformat": 4,
 "nbformat_minor": 2
}
