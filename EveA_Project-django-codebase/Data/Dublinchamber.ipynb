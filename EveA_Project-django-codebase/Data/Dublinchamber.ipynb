{
 "cells": [
  {
   "cell_type": "code",
   "execution_count": 1,
   "metadata": {
    "collapsed": true
   },
   "outputs": [],
   "source": [
    "from urllib.request import urlopen as uReq\n",
    "from bs4 import BeautifulSoup as soup\n",
    "import json"
   ]
  },
  {
   "cell_type": "code",
   "execution_count": 2,
   "metadata": {
    "collapsed": true
   },
   "outputs": [],
   "source": [
    "url ='https://portal.dublinchamberhosting.com/Events'"
   ]
  },
  {
   "cell_type": "code",
   "execution_count": 6,
   "metadata": {
    "collapsed": true
   },
   "outputs": [],
   "source": [
    "#Opening connection , grabbing the page\n",
    "uClient = uReq(url)\n",
    "page_soup = uClient.read()"
   ]
  },
  {
   "cell_type": "code",
   "execution_count": 7,
   "metadata": {
    "collapsed": true
   },
   "outputs": [],
   "source": [
    "uClient.close()"
   ]
  },
  {
   "cell_type": "code",
   "execution_count": 10,
   "metadata": {},
   "outputs": [],
   "source": [
    "#Parsing\n",
    "page_soup = soup(page_html, \"html.parser\")\n",
    "#print(page_soup)"
   ]
  },
  {
   "cell_type": "code",
   "execution_count": 14,
   "metadata": {},
   "outputs": [
    {
     "name": "stdout",
     "output_type": "stream",
     "text": [
      "6\n",
      "<div class=\"c-feed-box-outer\">\n",
      "<a class=\"c-feed-box-link\" href=\"/Events/Event-Details.aspx?eventDateId=63\">\n",
      "<div class=\"c-feed-box-inner\">\n",
      "<div class=\"c-feed-box__category-name\">Events</div>\n",
      "<div class=\"o-crop c-feed-box__image\">\n",
      "<span class=\"c-btn c-btn--view-more\">book now</span>\n",
      "<img 2020=\"\" alt=\"Find\" and=\"\" budget=\"\" business=\"\" class=\"o-crop__content o-crop__content--center\" for=\"\" means=\"\" out=\"\" src=\"https://i.imgur.com/1Co0V0Y.jpg\" what=\"\" you=\"\" your=\"\"/>\n",
      "</div>\n",
      "<div class=\"c-feed-box__inner-content\">\n",
      "<h2 class=\"c-feed-box__title\">Find out what Budget 2020 means for you and your business</h2>\n",
      "<div class=\"c-feed-box__date o-flag o-flag--tiny\">\n",
      "<div class=\"o-flag__img\">\n",
      "<i class=\"fa fa-calendar-o\"></i>\n",
      "</div>\n",
      "<div class=\"o-flag__content\">09 Oct 2019</div>\n",
      "</div>\n",
      "<div class=\"c-feed-box__time o-flag o-flag--tiny\">\n",
      "<div class=\"o-flag__img\">\n",
      "<i class=\"fa fa-clock-o\"></i>\n",
      "</div>\n",
      "<div class=\"o-flag__content\">\n",
      "            08:00 AM - 09:30 AM       \n",
      "          </div>\n",
      "</div>\n",
      "<div class=\"c-feed-box__event-venue u-hidden\">\n",
      "            Dublin Chamber 7 Clare Street   Dublin 2 -- Non-UK -- D02 F9O2\n",
      "          </div>\n",
      "<!--div class=\"c-feed-box__event-places u-hidden\">\n",
      "            25 Places left    \n",
      "          </div>\n",
      "          <div class=\"c-feed-box__event-price u-hidden\">  \n",
      "            €700.00\n",
      "          </div-->\n",
      "<div class=\"c-feed-box__summary\">  \n",
      "            Dublin Chamber partnering with PwC kindly invites you to attend our Budget 2020 briefing and implications for you and your business\n",
      "          </div>\n",
      "<span class=\"c-btn c-btn--read-more\">read more</span>\n",
      "</div>\n",
      "</div>\n",
      "</a>\n",
      "</div>\n"
     ]
    }
   ],
   "source": [
    "# Finding each events\n",
    "article = page_soup.findAll('div',{\"class\":\"c-feed-box-outer\"})\n",
    "print(len(article))\n",
    "print(article[0])"
   ]
  },
  {
   "cell_type": "code",
   "execution_count": 49,
   "metadata": {},
   "outputs": [
    {
     "name": "stdout",
     "output_type": "stream",
     "text": [
      "[{'title': 'Find out what Budget 2020 means for you and your business', 'date': '09 Oct 2019', 'time': '08:00 AM - 09:30 AM', 'desc': 'Dublin Chamber partnering with PwC kindly invites you to attend our Budget 2020 briefing and implications for you and your business', 'image': 'https://i.imgur.com/1Co0V0Y.jpg'}, {'title': 'Annual Dinner 2019', 'date': '10 Oct 2019', 'time': '06:00 PM - 10:00 PM', 'desc': 'Dublin Chamber’s Annual Dinner is the premier business dinner in Ireland and is a must attend event in the business calendar. The dinner connects and celebrates the people and businesses in our capital city.', 'image': 'https://i.imgur.com/X4rNvqs.jpg'}, {'title': 'Leaders Series with Kevin Wall CEO, Barclays Bank Ireland', 'date': '16 Oct 2019', 'time': '08:00 AM - 09:30 AM', 'desc': 'Join Dublin Chamber alongside our Sponsors Irishjobs for our next breakfast event of our Leaders Series on 16th October with Kevin Wall CEO, Barclays Bank Ireland. This event is open for management who are corporate members only.', 'image': 'https://i.imgur.com/Ny6Ykyt.jpg'}, {'title': 'Business Owners Network October 2019', 'date': '18 Oct 2019', 'time': '07:30 AM - 09:00 AM', 'desc': 'Attendees are given the opportunity to network with peers as well as share business advice and experiences during this session.', 'image': 'https://i.imgur.com/qxJ8Xlm.jpg'}, {'title': 'Deal or No Deal - Brexit and Beyond', 'date': '24 Oct 2019', 'time': '08:00 AM - 09:30 AM', 'desc': 'Dublin Chamber alongside Eversheds Sutherland invites you to attend a business breakfast to update you on Brexit.', 'image': 'https://i.imgur.com/U84Qdet.jpg'}, {'title': 'Business Opportunities with the USA', 'date': '10 Dec 2019', 'time': '08:30 AM - 01:00 PM', 'desc': 'Join us on Tuesday, 10th December for our business briefing and B2B meetings with US delegation in association with the Avitus Group.', 'image': 'https://i.imgur.com/l6wdX3C.jpg'}]\n"
     ]
    }
   ],
   "source": [
    "data_list = []\n",
    "\n",
    "for arti in article:\n",
    "    image = arti.find_all('div',{\"class\":\"o-crop c-feed-box__image\"})[0].img[\"src\"]\n",
    "    title = arti.find_all('div',{\"class\":\"c-feed-box__inner-content\"})[0].h2.text.strip()\n",
    "    date_div = arti.find_all('div',{\"class\":\"c-feed-box__date o-flag o-flag--tiny\"})\n",
    "    date = date_div[0].find_all('div',{\"class\":\"o-flag__content\"})[0].text.strip()\n",
    "    time_div = arti.find_all('div',{\"class\":\"c-feed-box__time o-flag o-flag--tiny\"})\n",
    "    time = time_div[0].find_all('div',{\"class\":\"o-flag__content\"})[0].text.strip()\n",
    "    desc = arti.find_all('div',{\"class\":\"c-feed-box__summary\"})[0].text.strip()\n",
    "    data = {}\n",
    "    data[\"title\"] = title\n",
    "    data[\"date\"] = date\n",
    "    data[\"time\"] = time\n",
    "    data[\"desc\"] = desc\n",
    "    data[\"image\"] = image\n",
    "    data_list.append(data)\n",
    "    \n",
    "print(data_list)"
   ]
  },
  {
   "cell_type": "code",
   "execution_count": null,
   "metadata": {
    "collapsed": true
   },
   "outputs": [],
   "source": []
  }
 ],
 "metadata": {
  "kernelspec": {
   "display_name": "Python 3",
   "language": "python",
   "name": "python3"
  },
  "language_info": {
   "codemirror_mode": {
    "name": "ipython",
    "version": 3
   },
   "file_extension": ".py",
   "mimetype": "text/x-python",
   "name": "python",
   "nbconvert_exporter": "python",
   "pygments_lexer": "ipython3",
   "version": "3.6.3"
  }
 },
 "nbformat": 4,
 "nbformat_minor": 2
}
